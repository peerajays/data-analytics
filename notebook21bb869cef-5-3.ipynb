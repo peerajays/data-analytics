{
 "cells": [
  {
   "cell_type": "markdown",
   "metadata": {},
   "source": [
    "**Introduction**\n",
    "\n",
    "Cyclistic is a bike-share service that operates across a major urban center, offering a flexible and eco-friendly transportation option to its residents. With a diverse user base ranging from annual members to casual riders, understanding the distinct usage patterns of these two segments is crucial for the company's strategic planning and growth. This project aims to delve into Cyclistic's comprehensive trip data for the year 2019 to uncover how annual members and casual riders utilize the bike-share service differently.Through this analytical journey, the ultimate goal is to empower Cyclistic with data-driven recommendations that drive user satisfaction and business profitability."
   ]
  },
  {
   "cell_type": "code",
   "execution_count": 85,
   "metadata": {
    "_cell_guid": "b1076dfc-b9ad-4769-8c92-a6c4dae69d19",
    "_uuid": "8f2839f25d086af736a60e9eeb907d3b93b6e0e5",
    "execution": {
     "iopub.execute_input": "2023-11-22T14:51:15.278030Z",
     "iopub.status.busy": "2023-11-22T14:51:15.277484Z",
     "iopub.status.idle": "2023-11-22T14:51:15.303120Z",
     "shell.execute_reply": "2023-11-22T14:51:15.302100Z",
     "shell.execute_reply.started": "2023-11-22T14:51:15.277982Z"
    }
   },
   "outputs": [],
   "source": [
    "#import libraries\n",
    "import numpy as np # linear algebra\n",
    "import pandas as pd # data processing, CSV file I/O (e.g. pd.read_csv)\n"
   ]
  },
  {
   "cell_type": "code",
   "execution_count": 86,
   "metadata": {
    "execution": {
     "iopub.execute_input": "2023-11-22T14:51:15.305572Z",
     "iopub.status.busy": "2023-11-22T14:51:15.305008Z",
     "iopub.status.idle": "2023-11-22T14:51:30.008253Z",
     "shell.execute_reply": "2023-11-22T14:51:30.006747Z",
     "shell.execute_reply.started": "2023-11-22T14:51:15.305537Z"
    }
   },
   "outputs": [],
   "source": [
    "df1 = pd.read_csv('/Users/peerapongchaolumbuacharat/Downloads/Divvy_Trips_2019_Q1.csv')\n",
    "df2 = pd.read_csv('/Users/peerapongchaolumbuacharat/Downloads/Divvy_Trips_2019_Q2.csv')\n",
    "df3 = pd.read_csv('/Users/peerapongchaolumbuacharat/Downloads/Divvy_Trips_2019_Q3.csv')\n",
    "df4 = pd.read_csv('/Users/peerapongchaolumbuacharat/Downloads/Divvy_Trips_2019_Q4.csv')"
   ]
  },
  {
   "cell_type": "markdown",
   "metadata": {},
   "source": [
    "**Data Exploration**"
   ]
  },
  {
   "cell_type": "code",
   "execution_count": 87,
   "metadata": {
    "execution": {
     "iopub.execute_input": "2023-11-22T14:51:30.010274Z",
     "iopub.status.busy": "2023-11-22T14:51:30.009799Z",
     "iopub.status.idle": "2023-11-22T14:51:30.029802Z",
     "shell.execute_reply": "2023-11-22T14:51:30.028539Z",
     "shell.execute_reply.started": "2023-11-22T14:51:30.010229Z"
    }
   },
   "outputs": [
    {
     "data": {
      "text/html": [
       "<div>\n",
       "<style scoped>\n",
       "    .dataframe tbody tr th:only-of-type {\n",
       "        vertical-align: middle;\n",
       "    }\n",
       "\n",
       "    .dataframe tbody tr th {\n",
       "        vertical-align: top;\n",
       "    }\n",
       "\n",
       "    .dataframe thead th {\n",
       "        text-align: right;\n",
       "    }\n",
       "</style>\n",
       "<table border=\"1\" class=\"dataframe\">\n",
       "  <thead>\n",
       "    <tr style=\"text-align: right;\">\n",
       "      <th></th>\n",
       "      <th>trip_id</th>\n",
       "      <th>start_time</th>\n",
       "      <th>end_time</th>\n",
       "      <th>bikeid</th>\n",
       "      <th>tripduration</th>\n",
       "      <th>from_station_id</th>\n",
       "      <th>from_station_name</th>\n",
       "      <th>to_station_id</th>\n",
       "      <th>to_station_name</th>\n",
       "      <th>usertype</th>\n",
       "      <th>gender</th>\n",
       "      <th>birthyear</th>\n",
       "    </tr>\n",
       "  </thead>\n",
       "  <tbody>\n",
       "    <tr>\n",
       "      <th>0</th>\n",
       "      <td>21742443</td>\n",
       "      <td>2019-01-01 00:04:37</td>\n",
       "      <td>2019-01-01 00:11:07</td>\n",
       "      <td>2167</td>\n",
       "      <td>390.0</td>\n",
       "      <td>199</td>\n",
       "      <td>Wabash Ave &amp; Grand Ave</td>\n",
       "      <td>84</td>\n",
       "      <td>Milwaukee Ave &amp; Grand Ave</td>\n",
       "      <td>Subscriber</td>\n",
       "      <td>Male</td>\n",
       "      <td>1989.0</td>\n",
       "    </tr>\n",
       "    <tr>\n",
       "      <th>1</th>\n",
       "      <td>21742444</td>\n",
       "      <td>2019-01-01 00:08:13</td>\n",
       "      <td>2019-01-01 00:15:34</td>\n",
       "      <td>4386</td>\n",
       "      <td>441.0</td>\n",
       "      <td>44</td>\n",
       "      <td>State St &amp; Randolph St</td>\n",
       "      <td>624</td>\n",
       "      <td>Dearborn St &amp; Van Buren St (*)</td>\n",
       "      <td>Subscriber</td>\n",
       "      <td>Female</td>\n",
       "      <td>1990.0</td>\n",
       "    </tr>\n",
       "    <tr>\n",
       "      <th>2</th>\n",
       "      <td>21742445</td>\n",
       "      <td>2019-01-01 00:13:23</td>\n",
       "      <td>2019-01-01 00:27:12</td>\n",
       "      <td>1524</td>\n",
       "      <td>829.0</td>\n",
       "      <td>15</td>\n",
       "      <td>Racine Ave &amp; 18th St</td>\n",
       "      <td>644</td>\n",
       "      <td>Western Ave &amp; Fillmore St (*)</td>\n",
       "      <td>Subscriber</td>\n",
       "      <td>Female</td>\n",
       "      <td>1994.0</td>\n",
       "    </tr>\n",
       "    <tr>\n",
       "      <th>3</th>\n",
       "      <td>21742446</td>\n",
       "      <td>2019-01-01 00:13:45</td>\n",
       "      <td>2019-01-01 00:43:28</td>\n",
       "      <td>252</td>\n",
       "      <td>1,783.0</td>\n",
       "      <td>123</td>\n",
       "      <td>California Ave &amp; Milwaukee Ave</td>\n",
       "      <td>176</td>\n",
       "      <td>Clark St &amp; Elm St</td>\n",
       "      <td>Subscriber</td>\n",
       "      <td>Male</td>\n",
       "      <td>1993.0</td>\n",
       "    </tr>\n",
       "    <tr>\n",
       "      <th>4</th>\n",
       "      <td>21742447</td>\n",
       "      <td>2019-01-01 00:14:52</td>\n",
       "      <td>2019-01-01 00:20:56</td>\n",
       "      <td>1170</td>\n",
       "      <td>364.0</td>\n",
       "      <td>173</td>\n",
       "      <td>Mies van der Rohe Way &amp; Chicago Ave</td>\n",
       "      <td>35</td>\n",
       "      <td>Streeter Dr &amp; Grand Ave</td>\n",
       "      <td>Subscriber</td>\n",
       "      <td>Male</td>\n",
       "      <td>1994.0</td>\n",
       "    </tr>\n",
       "  </tbody>\n",
       "</table>\n",
       "</div>"
      ],
      "text/plain": [
       "    trip_id           start_time             end_time  bikeid tripduration  \\\n",
       "0  21742443  2019-01-01 00:04:37  2019-01-01 00:11:07    2167        390.0   \n",
       "1  21742444  2019-01-01 00:08:13  2019-01-01 00:15:34    4386        441.0   \n",
       "2  21742445  2019-01-01 00:13:23  2019-01-01 00:27:12    1524        829.0   \n",
       "3  21742446  2019-01-01 00:13:45  2019-01-01 00:43:28     252      1,783.0   \n",
       "4  21742447  2019-01-01 00:14:52  2019-01-01 00:20:56    1170        364.0   \n",
       "\n",
       "   from_station_id                    from_station_name  to_station_id  \\\n",
       "0              199               Wabash Ave & Grand Ave             84   \n",
       "1               44               State St & Randolph St            624   \n",
       "2               15                 Racine Ave & 18th St            644   \n",
       "3              123       California Ave & Milwaukee Ave            176   \n",
       "4              173  Mies van der Rohe Way & Chicago Ave             35   \n",
       "\n",
       "                  to_station_name    usertype  gender  birthyear  \n",
       "0       Milwaukee Ave & Grand Ave  Subscriber    Male     1989.0  \n",
       "1  Dearborn St & Van Buren St (*)  Subscriber  Female     1990.0  \n",
       "2   Western Ave & Fillmore St (*)  Subscriber  Female     1994.0  \n",
       "3               Clark St & Elm St  Subscriber    Male     1993.0  \n",
       "4         Streeter Dr & Grand Ave  Subscriber    Male     1994.0  "
      ]
     },
     "execution_count": 87,
     "metadata": {},
     "output_type": "execute_result"
    }
   ],
   "source": [
    "df1.head()"
   ]
  },
  {
   "cell_type": "code",
   "execution_count": 88,
   "metadata": {
    "execution": {
     "iopub.execute_input": "2023-11-22T14:51:30.031689Z",
     "iopub.status.busy": "2023-11-22T14:51:30.031292Z",
     "iopub.status.idle": "2023-11-22T14:51:30.046326Z",
     "shell.execute_reply": "2023-11-22T14:51:30.044961Z",
     "shell.execute_reply.started": "2023-11-22T14:51:30.031654Z"
    }
   },
   "outputs": [
    {
     "data": {
      "text/plain": [
       "(365069, 12)"
      ]
     },
     "execution_count": 88,
     "metadata": {},
     "output_type": "execute_result"
    }
   ],
   "source": [
    "df1.shape"
   ]
  },
  {
   "cell_type": "code",
   "execution_count": 89,
   "metadata": {
    "execution": {
     "iopub.execute_input": "2023-11-22T14:51:30.050960Z",
     "iopub.status.busy": "2023-11-22T14:51:30.049900Z",
     "iopub.status.idle": "2023-11-22T14:51:30.073834Z",
     "shell.execute_reply": "2023-11-22T14:51:30.072086Z",
     "shell.execute_reply.started": "2023-11-22T14:51:30.050918Z"
    }
   },
   "outputs": [
    {
     "data": {
      "text/html": [
       "<div>\n",
       "<style scoped>\n",
       "    .dataframe tbody tr th:only-of-type {\n",
       "        vertical-align: middle;\n",
       "    }\n",
       "\n",
       "    .dataframe tbody tr th {\n",
       "        vertical-align: top;\n",
       "    }\n",
       "\n",
       "    .dataframe thead th {\n",
       "        text-align: right;\n",
       "    }\n",
       "</style>\n",
       "<table border=\"1\" class=\"dataframe\">\n",
       "  <thead>\n",
       "    <tr style=\"text-align: right;\">\n",
       "      <th></th>\n",
       "      <th>01 - Rental Details Rental ID</th>\n",
       "      <th>01 - Rental Details Local Start Time</th>\n",
       "      <th>01 - Rental Details Local End Time</th>\n",
       "      <th>01 - Rental Details Bike ID</th>\n",
       "      <th>01 - Rental Details Duration In Seconds Uncapped</th>\n",
       "      <th>03 - Rental Start Station ID</th>\n",
       "      <th>03 - Rental Start Station Name</th>\n",
       "      <th>02 - Rental End Station ID</th>\n",
       "      <th>02 - Rental End Station Name</th>\n",
       "      <th>User Type</th>\n",
       "      <th>Member Gender</th>\n",
       "      <th>05 - Member Details Member Birthday Year</th>\n",
       "    </tr>\n",
       "  </thead>\n",
       "  <tbody>\n",
       "    <tr>\n",
       "      <th>0</th>\n",
       "      <td>22178529</td>\n",
       "      <td>2019-04-01 00:02:22</td>\n",
       "      <td>2019-04-01 00:09:48</td>\n",
       "      <td>6251</td>\n",
       "      <td>446.0</td>\n",
       "      <td>81</td>\n",
       "      <td>Daley Center Plaza</td>\n",
       "      <td>56</td>\n",
       "      <td>Desplaines St &amp; Kinzie St</td>\n",
       "      <td>Subscriber</td>\n",
       "      <td>Male</td>\n",
       "      <td>1975.0</td>\n",
       "    </tr>\n",
       "    <tr>\n",
       "      <th>1</th>\n",
       "      <td>22178530</td>\n",
       "      <td>2019-04-01 00:03:02</td>\n",
       "      <td>2019-04-01 00:20:30</td>\n",
       "      <td>6226</td>\n",
       "      <td>1,048.0</td>\n",
       "      <td>317</td>\n",
       "      <td>Wood St &amp; Taylor St</td>\n",
       "      <td>59</td>\n",
       "      <td>Wabash Ave &amp; Roosevelt Rd</td>\n",
       "      <td>Subscriber</td>\n",
       "      <td>Female</td>\n",
       "      <td>1984.0</td>\n",
       "    </tr>\n",
       "    <tr>\n",
       "      <th>2</th>\n",
       "      <td>22178531</td>\n",
       "      <td>2019-04-01 00:11:07</td>\n",
       "      <td>2019-04-01 00:15:19</td>\n",
       "      <td>5649</td>\n",
       "      <td>252.0</td>\n",
       "      <td>283</td>\n",
       "      <td>LaSalle St &amp; Jackson Blvd</td>\n",
       "      <td>174</td>\n",
       "      <td>Canal St &amp; Madison St</td>\n",
       "      <td>Subscriber</td>\n",
       "      <td>Male</td>\n",
       "      <td>1990.0</td>\n",
       "    </tr>\n",
       "    <tr>\n",
       "      <th>3</th>\n",
       "      <td>22178532</td>\n",
       "      <td>2019-04-01 00:13:01</td>\n",
       "      <td>2019-04-01 00:18:58</td>\n",
       "      <td>4151</td>\n",
       "      <td>357.0</td>\n",
       "      <td>26</td>\n",
       "      <td>McClurg Ct &amp; Illinois St</td>\n",
       "      <td>133</td>\n",
       "      <td>Kingsbury St &amp; Kinzie St</td>\n",
       "      <td>Subscriber</td>\n",
       "      <td>Male</td>\n",
       "      <td>1993.0</td>\n",
       "    </tr>\n",
       "    <tr>\n",
       "      <th>4</th>\n",
       "      <td>22178533</td>\n",
       "      <td>2019-04-01 00:19:26</td>\n",
       "      <td>2019-04-01 00:36:13</td>\n",
       "      <td>3270</td>\n",
       "      <td>1,007.0</td>\n",
       "      <td>202</td>\n",
       "      <td>Halsted St &amp; 18th St</td>\n",
       "      <td>129</td>\n",
       "      <td>Blue Island Ave &amp; 18th St</td>\n",
       "      <td>Subscriber</td>\n",
       "      <td>Male</td>\n",
       "      <td>1992.0</td>\n",
       "    </tr>\n",
       "  </tbody>\n",
       "</table>\n",
       "</div>"
      ],
      "text/plain": [
       "   01 - Rental Details Rental ID 01 - Rental Details Local Start Time  \\\n",
       "0                       22178529                  2019-04-01 00:02:22   \n",
       "1                       22178530                  2019-04-01 00:03:02   \n",
       "2                       22178531                  2019-04-01 00:11:07   \n",
       "3                       22178532                  2019-04-01 00:13:01   \n",
       "4                       22178533                  2019-04-01 00:19:26   \n",
       "\n",
       "  01 - Rental Details Local End Time  01 - Rental Details Bike ID  \\\n",
       "0                2019-04-01 00:09:48                         6251   \n",
       "1                2019-04-01 00:20:30                         6226   \n",
       "2                2019-04-01 00:15:19                         5649   \n",
       "3                2019-04-01 00:18:58                         4151   \n",
       "4                2019-04-01 00:36:13                         3270   \n",
       "\n",
       "  01 - Rental Details Duration In Seconds Uncapped  \\\n",
       "0                                            446.0   \n",
       "1                                          1,048.0   \n",
       "2                                            252.0   \n",
       "3                                            357.0   \n",
       "4                                          1,007.0   \n",
       "\n",
       "   03 - Rental Start Station ID 03 - Rental Start Station Name  \\\n",
       "0                            81             Daley Center Plaza   \n",
       "1                           317            Wood St & Taylor St   \n",
       "2                           283      LaSalle St & Jackson Blvd   \n",
       "3                            26       McClurg Ct & Illinois St   \n",
       "4                           202           Halsted St & 18th St   \n",
       "\n",
       "   02 - Rental End Station ID 02 - Rental End Station Name   User Type  \\\n",
       "0                          56    Desplaines St & Kinzie St  Subscriber   \n",
       "1                          59    Wabash Ave & Roosevelt Rd  Subscriber   \n",
       "2                         174        Canal St & Madison St  Subscriber   \n",
       "3                         133     Kingsbury St & Kinzie St  Subscriber   \n",
       "4                         129    Blue Island Ave & 18th St  Subscriber   \n",
       "\n",
       "  Member Gender  05 - Member Details Member Birthday Year  \n",
       "0          Male                                    1975.0  \n",
       "1        Female                                    1984.0  \n",
       "2          Male                                    1990.0  \n",
       "3          Male                                    1993.0  \n",
       "4          Male                                    1992.0  "
      ]
     },
     "execution_count": 89,
     "metadata": {},
     "output_type": "execute_result"
    }
   ],
   "source": [
    "df2.head()"
   ]
  },
  {
   "cell_type": "code",
   "execution_count": 90,
   "metadata": {
    "execution": {
     "iopub.execute_input": "2023-11-22T14:51:30.075874Z",
     "iopub.status.busy": "2023-11-22T14:51:30.075519Z",
     "iopub.status.idle": "2023-11-22T14:51:30.084903Z",
     "shell.execute_reply": "2023-11-22T14:51:30.083511Z",
     "shell.execute_reply.started": "2023-11-22T14:51:30.075845Z"
    }
   },
   "outputs": [
    {
     "data": {
      "text/plain": [
       "(1108163, 12)"
      ]
     },
     "execution_count": 90,
     "metadata": {},
     "output_type": "execute_result"
    }
   ],
   "source": [
    "df2.shape"
   ]
  },
  {
   "cell_type": "code",
   "execution_count": 91,
   "metadata": {
    "execution": {
     "iopub.execute_input": "2023-11-22T14:51:30.087679Z",
     "iopub.status.busy": "2023-11-22T14:51:30.086505Z",
     "iopub.status.idle": "2023-11-22T14:51:30.111299Z",
     "shell.execute_reply": "2023-11-22T14:51:30.109664Z",
     "shell.execute_reply.started": "2023-11-22T14:51:30.087637Z"
    }
   },
   "outputs": [
    {
     "data": {
      "text/html": [
       "<div>\n",
       "<style scoped>\n",
       "    .dataframe tbody tr th:only-of-type {\n",
       "        vertical-align: middle;\n",
       "    }\n",
       "\n",
       "    .dataframe tbody tr th {\n",
       "        vertical-align: top;\n",
       "    }\n",
       "\n",
       "    .dataframe thead th {\n",
       "        text-align: right;\n",
       "    }\n",
       "</style>\n",
       "<table border=\"1\" class=\"dataframe\">\n",
       "  <thead>\n",
       "    <tr style=\"text-align: right;\">\n",
       "      <th></th>\n",
       "      <th>trip_id</th>\n",
       "      <th>start_time</th>\n",
       "      <th>end_time</th>\n",
       "      <th>bikeid</th>\n",
       "      <th>tripduration</th>\n",
       "      <th>from_station_id</th>\n",
       "      <th>from_station_name</th>\n",
       "      <th>to_station_id</th>\n",
       "      <th>to_station_name</th>\n",
       "      <th>usertype</th>\n",
       "      <th>gender</th>\n",
       "      <th>birthyear</th>\n",
       "    </tr>\n",
       "  </thead>\n",
       "  <tbody>\n",
       "    <tr>\n",
       "      <th>0</th>\n",
       "      <td>23479388</td>\n",
       "      <td>2019-07-01 00:00:27</td>\n",
       "      <td>2019-07-01 00:20:41</td>\n",
       "      <td>3591</td>\n",
       "      <td>1,214.0</td>\n",
       "      <td>117</td>\n",
       "      <td>Wilton Ave &amp; Belmont Ave</td>\n",
       "      <td>497</td>\n",
       "      <td>Kimball Ave &amp; Belmont Ave</td>\n",
       "      <td>Subscriber</td>\n",
       "      <td>Male</td>\n",
       "      <td>1992.0</td>\n",
       "    </tr>\n",
       "    <tr>\n",
       "      <th>1</th>\n",
       "      <td>23479389</td>\n",
       "      <td>2019-07-01 00:01:16</td>\n",
       "      <td>2019-07-01 00:18:44</td>\n",
       "      <td>5353</td>\n",
       "      <td>1,048.0</td>\n",
       "      <td>381</td>\n",
       "      <td>Western Ave &amp; Monroe St</td>\n",
       "      <td>203</td>\n",
       "      <td>Western Ave &amp; 21st St</td>\n",
       "      <td>Customer</td>\n",
       "      <td>NaN</td>\n",
       "      <td>NaN</td>\n",
       "    </tr>\n",
       "    <tr>\n",
       "      <th>2</th>\n",
       "      <td>23479390</td>\n",
       "      <td>2019-07-01 00:01:48</td>\n",
       "      <td>2019-07-01 00:27:42</td>\n",
       "      <td>6180</td>\n",
       "      <td>1,554.0</td>\n",
       "      <td>313</td>\n",
       "      <td>Lakeview Ave &amp; Fullerton Pkwy</td>\n",
       "      <td>144</td>\n",
       "      <td>Larrabee St &amp; Webster Ave</td>\n",
       "      <td>Customer</td>\n",
       "      <td>NaN</td>\n",
       "      <td>NaN</td>\n",
       "    </tr>\n",
       "    <tr>\n",
       "      <th>3</th>\n",
       "      <td>23479391</td>\n",
       "      <td>2019-07-01 00:02:07</td>\n",
       "      <td>2019-07-01 00:27:10</td>\n",
       "      <td>5540</td>\n",
       "      <td>1,503.0</td>\n",
       "      <td>313</td>\n",
       "      <td>Lakeview Ave &amp; Fullerton Pkwy</td>\n",
       "      <td>144</td>\n",
       "      <td>Larrabee St &amp; Webster Ave</td>\n",
       "      <td>Customer</td>\n",
       "      <td>NaN</td>\n",
       "      <td>NaN</td>\n",
       "    </tr>\n",
       "    <tr>\n",
       "      <th>4</th>\n",
       "      <td>23479392</td>\n",
       "      <td>2019-07-01 00:02:13</td>\n",
       "      <td>2019-07-01 00:22:26</td>\n",
       "      <td>6014</td>\n",
       "      <td>1,213.0</td>\n",
       "      <td>168</td>\n",
       "      <td>Michigan Ave &amp; 14th St</td>\n",
       "      <td>62</td>\n",
       "      <td>McCormick Place</td>\n",
       "      <td>Customer</td>\n",
       "      <td>NaN</td>\n",
       "      <td>NaN</td>\n",
       "    </tr>\n",
       "  </tbody>\n",
       "</table>\n",
       "</div>"
      ],
      "text/plain": [
       "    trip_id           start_time             end_time  bikeid tripduration  \\\n",
       "0  23479388  2019-07-01 00:00:27  2019-07-01 00:20:41    3591      1,214.0   \n",
       "1  23479389  2019-07-01 00:01:16  2019-07-01 00:18:44    5353      1,048.0   \n",
       "2  23479390  2019-07-01 00:01:48  2019-07-01 00:27:42    6180      1,554.0   \n",
       "3  23479391  2019-07-01 00:02:07  2019-07-01 00:27:10    5540      1,503.0   \n",
       "4  23479392  2019-07-01 00:02:13  2019-07-01 00:22:26    6014      1,213.0   \n",
       "\n",
       "   from_station_id              from_station_name  to_station_id  \\\n",
       "0              117       Wilton Ave & Belmont Ave            497   \n",
       "1              381        Western Ave & Monroe St            203   \n",
       "2              313  Lakeview Ave & Fullerton Pkwy            144   \n",
       "3              313  Lakeview Ave & Fullerton Pkwy            144   \n",
       "4              168         Michigan Ave & 14th St             62   \n",
       "\n",
       "             to_station_name    usertype gender  birthyear  \n",
       "0  Kimball Ave & Belmont Ave  Subscriber   Male     1992.0  \n",
       "1      Western Ave & 21st St    Customer    NaN        NaN  \n",
       "2  Larrabee St & Webster Ave    Customer    NaN        NaN  \n",
       "3  Larrabee St & Webster Ave    Customer    NaN        NaN  \n",
       "4            McCormick Place    Customer    NaN        NaN  "
      ]
     },
     "execution_count": 91,
     "metadata": {},
     "output_type": "execute_result"
    }
   ],
   "source": [
    "df3.head()"
   ]
  },
  {
   "cell_type": "code",
   "execution_count": 92,
   "metadata": {
    "execution": {
     "iopub.execute_input": "2023-11-22T14:51:30.113317Z",
     "iopub.status.busy": "2023-11-22T14:51:30.112808Z",
     "iopub.status.idle": "2023-11-22T14:51:30.128178Z",
     "shell.execute_reply": "2023-11-22T14:51:30.127003Z",
     "shell.execute_reply.started": "2023-11-22T14:51:30.113279Z"
    }
   },
   "outputs": [
    {
     "data": {
      "text/plain": [
       "(1640718, 12)"
      ]
     },
     "execution_count": 92,
     "metadata": {},
     "output_type": "execute_result"
    }
   ],
   "source": [
    "df3.shape"
   ]
  },
  {
   "cell_type": "code",
   "execution_count": 93,
   "metadata": {
    "execution": {
     "iopub.execute_input": "2023-11-22T14:51:30.130598Z",
     "iopub.status.busy": "2023-11-22T14:51:30.129562Z",
     "iopub.status.idle": "2023-11-22T14:51:30.156904Z",
     "shell.execute_reply": "2023-11-22T14:51:30.155538Z",
     "shell.execute_reply.started": "2023-11-22T14:51:30.130558Z"
    }
   },
   "outputs": [
    {
     "data": {
      "text/html": [
       "<div>\n",
       "<style scoped>\n",
       "    .dataframe tbody tr th:only-of-type {\n",
       "        vertical-align: middle;\n",
       "    }\n",
       "\n",
       "    .dataframe tbody tr th {\n",
       "        vertical-align: top;\n",
       "    }\n",
       "\n",
       "    .dataframe thead th {\n",
       "        text-align: right;\n",
       "    }\n",
       "</style>\n",
       "<table border=\"1\" class=\"dataframe\">\n",
       "  <thead>\n",
       "    <tr style=\"text-align: right;\">\n",
       "      <th></th>\n",
       "      <th>trip_id</th>\n",
       "      <th>start_time</th>\n",
       "      <th>end_time</th>\n",
       "      <th>bikeid</th>\n",
       "      <th>tripduration</th>\n",
       "      <th>from_station_id</th>\n",
       "      <th>from_station_name</th>\n",
       "      <th>to_station_id</th>\n",
       "      <th>to_station_name</th>\n",
       "      <th>usertype</th>\n",
       "      <th>gender</th>\n",
       "      <th>birthyear</th>\n",
       "    </tr>\n",
       "  </thead>\n",
       "  <tbody>\n",
       "    <tr>\n",
       "      <th>0</th>\n",
       "      <td>25223640</td>\n",
       "      <td>2019-10-01 00:01:39</td>\n",
       "      <td>2019-10-01 00:17:20</td>\n",
       "      <td>2215</td>\n",
       "      <td>940.0</td>\n",
       "      <td>20</td>\n",
       "      <td>Sheffield Ave &amp; Kingsbury St</td>\n",
       "      <td>309</td>\n",
       "      <td>Leavitt St &amp; Armitage Ave</td>\n",
       "      <td>Subscriber</td>\n",
       "      <td>Male</td>\n",
       "      <td>1987.0</td>\n",
       "    </tr>\n",
       "    <tr>\n",
       "      <th>1</th>\n",
       "      <td>25223641</td>\n",
       "      <td>2019-10-01 00:02:16</td>\n",
       "      <td>2019-10-01 00:06:34</td>\n",
       "      <td>6328</td>\n",
       "      <td>258.0</td>\n",
       "      <td>19</td>\n",
       "      <td>Throop (Loomis) St &amp; Taylor St</td>\n",
       "      <td>241</td>\n",
       "      <td>Morgan St &amp; Polk St</td>\n",
       "      <td>Subscriber</td>\n",
       "      <td>Male</td>\n",
       "      <td>1998.0</td>\n",
       "    </tr>\n",
       "    <tr>\n",
       "      <th>2</th>\n",
       "      <td>25223642</td>\n",
       "      <td>2019-10-01 00:04:32</td>\n",
       "      <td>2019-10-01 00:18:43</td>\n",
       "      <td>3003</td>\n",
       "      <td>850.0</td>\n",
       "      <td>84</td>\n",
       "      <td>Milwaukee Ave &amp; Grand Ave</td>\n",
       "      <td>199</td>\n",
       "      <td>Wabash Ave &amp; Grand Ave</td>\n",
       "      <td>Subscriber</td>\n",
       "      <td>Female</td>\n",
       "      <td>1991.0</td>\n",
       "    </tr>\n",
       "    <tr>\n",
       "      <th>3</th>\n",
       "      <td>25223643</td>\n",
       "      <td>2019-10-01 00:04:32</td>\n",
       "      <td>2019-10-01 00:43:43</td>\n",
       "      <td>3275</td>\n",
       "      <td>2,350.0</td>\n",
       "      <td>313</td>\n",
       "      <td>Lakeview Ave &amp; Fullerton Pkwy</td>\n",
       "      <td>290</td>\n",
       "      <td>Kedzie Ave &amp; Palmer Ct</td>\n",
       "      <td>Subscriber</td>\n",
       "      <td>Male</td>\n",
       "      <td>1990.0</td>\n",
       "    </tr>\n",
       "    <tr>\n",
       "      <th>4</th>\n",
       "      <td>25223644</td>\n",
       "      <td>2019-10-01 00:04:34</td>\n",
       "      <td>2019-10-01 00:35:42</td>\n",
       "      <td>5294</td>\n",
       "      <td>1,867.0</td>\n",
       "      <td>210</td>\n",
       "      <td>Ashland Ave &amp; Division St</td>\n",
       "      <td>382</td>\n",
       "      <td>Western Ave &amp; Congress Pkwy</td>\n",
       "      <td>Subscriber</td>\n",
       "      <td>Male</td>\n",
       "      <td>1987.0</td>\n",
       "    </tr>\n",
       "  </tbody>\n",
       "</table>\n",
       "</div>"
      ],
      "text/plain": [
       "    trip_id           start_time             end_time  bikeid tripduration  \\\n",
       "0  25223640  2019-10-01 00:01:39  2019-10-01 00:17:20    2215        940.0   \n",
       "1  25223641  2019-10-01 00:02:16  2019-10-01 00:06:34    6328        258.0   \n",
       "2  25223642  2019-10-01 00:04:32  2019-10-01 00:18:43    3003        850.0   \n",
       "3  25223643  2019-10-01 00:04:32  2019-10-01 00:43:43    3275      2,350.0   \n",
       "4  25223644  2019-10-01 00:04:34  2019-10-01 00:35:42    5294      1,867.0   \n",
       "\n",
       "   from_station_id               from_station_name  to_station_id  \\\n",
       "0               20    Sheffield Ave & Kingsbury St            309   \n",
       "1               19  Throop (Loomis) St & Taylor St            241   \n",
       "2               84       Milwaukee Ave & Grand Ave            199   \n",
       "3              313   Lakeview Ave & Fullerton Pkwy            290   \n",
       "4              210       Ashland Ave & Division St            382   \n",
       "\n",
       "               to_station_name    usertype  gender  birthyear  \n",
       "0    Leavitt St & Armitage Ave  Subscriber    Male     1987.0  \n",
       "1          Morgan St & Polk St  Subscriber    Male     1998.0  \n",
       "2       Wabash Ave & Grand Ave  Subscriber  Female     1991.0  \n",
       "3       Kedzie Ave & Palmer Ct  Subscriber    Male     1990.0  \n",
       "4  Western Ave & Congress Pkwy  Subscriber    Male     1987.0  "
      ]
     },
     "execution_count": 93,
     "metadata": {},
     "output_type": "execute_result"
    }
   ],
   "source": [
    "df4.head()"
   ]
  },
  {
   "cell_type": "code",
   "execution_count": 94,
   "metadata": {
    "execution": {
     "iopub.execute_input": "2023-11-22T14:51:30.159599Z",
     "iopub.status.busy": "2023-11-22T14:51:30.158654Z",
     "iopub.status.idle": "2023-11-22T14:51:30.175457Z",
     "shell.execute_reply": "2023-11-22T14:51:30.173939Z",
     "shell.execute_reply.started": "2023-11-22T14:51:30.159551Z"
    }
   },
   "outputs": [
    {
     "data": {
      "text/plain": [
       "(704054, 12)"
      ]
     },
     "execution_count": 94,
     "metadata": {},
     "output_type": "execute_result"
    }
   ],
   "source": [
    "df4.shape"
   ]
  },
  {
   "cell_type": "markdown",
   "metadata": {},
   "source": [
    "As df2 has different column names to other dfs. The column name of df2 will be changed to align with the rest of the dataframe in order to stack the rows later"
   ]
  },
  {
   "cell_type": "code",
   "execution_count": 95,
   "metadata": {
    "execution": {
     "iopub.execute_input": "2023-11-22T14:51:30.177376Z",
     "iopub.status.busy": "2023-11-22T14:51:30.177027Z",
     "iopub.status.idle": "2023-11-22T14:51:30.188337Z",
     "shell.execute_reply": "2023-11-22T14:51:30.187040Z",
     "shell.execute_reply.started": "2023-11-22T14:51:30.177336Z"
    }
   },
   "outputs": [],
   "source": [
    "df2.columns = df1.columns"
   ]
  },
  {
   "cell_type": "markdown",
   "metadata": {},
   "source": [
    "Check that all dfs have the same column names"
   ]
  },
  {
   "cell_type": "code",
   "execution_count": 96,
   "metadata": {
    "execution": {
     "iopub.execute_input": "2023-11-22T14:51:30.190585Z",
     "iopub.status.busy": "2023-11-22T14:51:30.190191Z",
     "iopub.status.idle": "2023-11-22T14:51:30.203185Z",
     "shell.execute_reply": "2023-11-22T14:51:30.202215Z",
     "shell.execute_reply.started": "2023-11-22T14:51:30.190552Z"
    }
   },
   "outputs": [
    {
     "name": "stdout",
     "output_type": "stream",
     "text": [
      "[ True  True  True  True  True  True  True  True  True  True  True  True]\n",
      "[ True  True  True  True  True  True  True  True  True  True  True  True]\n",
      "[ True  True  True  True  True  True  True  True  True  True  True  True]\n"
     ]
    }
   ],
   "source": [
    "print(df2.columns == df1.columns)\n",
    "print(df2.columns == df3.columns)\n",
    "print(df2.columns == df4.columns)"
   ]
  },
  {
   "cell_type": "code",
   "execution_count": 97,
   "metadata": {
    "execution": {
     "iopub.execute_input": "2023-11-22T14:51:30.204631Z",
     "iopub.status.busy": "2023-11-22T14:51:30.204204Z",
     "iopub.status.idle": "2023-11-22T14:51:31.898563Z",
     "shell.execute_reply": "2023-11-22T14:51:31.897017Z",
     "shell.execute_reply.started": "2023-11-22T14:51:30.204551Z"
    }
   },
   "outputs": [],
   "source": [
    "merged_df = pd.concat([df1, df2, df3, df4], axis=0)"
   ]
  },
  {
   "cell_type": "code",
   "execution_count": 98,
   "metadata": {
    "execution": {
     "iopub.execute_input": "2023-11-22T14:51:31.904782Z",
     "iopub.status.busy": "2023-11-22T14:51:31.904387Z",
     "iopub.status.idle": "2023-11-22T14:51:31.929712Z",
     "shell.execute_reply": "2023-11-22T14:51:31.928264Z",
     "shell.execute_reply.started": "2023-11-22T14:51:31.904748Z"
    }
   },
   "outputs": [
    {
     "data": {
      "text/html": [
       "<div>\n",
       "<style scoped>\n",
       "    .dataframe tbody tr th:only-of-type {\n",
       "        vertical-align: middle;\n",
       "    }\n",
       "\n",
       "    .dataframe tbody tr th {\n",
       "        vertical-align: top;\n",
       "    }\n",
       "\n",
       "    .dataframe thead th {\n",
       "        text-align: right;\n",
       "    }\n",
       "</style>\n",
       "<table border=\"1\" class=\"dataframe\">\n",
       "  <thead>\n",
       "    <tr style=\"text-align: right;\">\n",
       "      <th></th>\n",
       "      <th>trip_id</th>\n",
       "      <th>start_time</th>\n",
       "      <th>end_time</th>\n",
       "      <th>bikeid</th>\n",
       "      <th>tripduration</th>\n",
       "      <th>from_station_id</th>\n",
       "      <th>from_station_name</th>\n",
       "      <th>to_station_id</th>\n",
       "      <th>to_station_name</th>\n",
       "      <th>usertype</th>\n",
       "      <th>gender</th>\n",
       "      <th>birthyear</th>\n",
       "    </tr>\n",
       "  </thead>\n",
       "  <tbody>\n",
       "    <tr>\n",
       "      <th>0</th>\n",
       "      <td>21742443</td>\n",
       "      <td>2019-01-01 00:04:37</td>\n",
       "      <td>2019-01-01 00:11:07</td>\n",
       "      <td>2167</td>\n",
       "      <td>390.0</td>\n",
       "      <td>199</td>\n",
       "      <td>Wabash Ave &amp; Grand Ave</td>\n",
       "      <td>84</td>\n",
       "      <td>Milwaukee Ave &amp; Grand Ave</td>\n",
       "      <td>Subscriber</td>\n",
       "      <td>Male</td>\n",
       "      <td>1989.0</td>\n",
       "    </tr>\n",
       "    <tr>\n",
       "      <th>1</th>\n",
       "      <td>21742444</td>\n",
       "      <td>2019-01-01 00:08:13</td>\n",
       "      <td>2019-01-01 00:15:34</td>\n",
       "      <td>4386</td>\n",
       "      <td>441.0</td>\n",
       "      <td>44</td>\n",
       "      <td>State St &amp; Randolph St</td>\n",
       "      <td>624</td>\n",
       "      <td>Dearborn St &amp; Van Buren St (*)</td>\n",
       "      <td>Subscriber</td>\n",
       "      <td>Female</td>\n",
       "      <td>1990.0</td>\n",
       "    </tr>\n",
       "    <tr>\n",
       "      <th>2</th>\n",
       "      <td>21742445</td>\n",
       "      <td>2019-01-01 00:13:23</td>\n",
       "      <td>2019-01-01 00:27:12</td>\n",
       "      <td>1524</td>\n",
       "      <td>829.0</td>\n",
       "      <td>15</td>\n",
       "      <td>Racine Ave &amp; 18th St</td>\n",
       "      <td>644</td>\n",
       "      <td>Western Ave &amp; Fillmore St (*)</td>\n",
       "      <td>Subscriber</td>\n",
       "      <td>Female</td>\n",
       "      <td>1994.0</td>\n",
       "    </tr>\n",
       "    <tr>\n",
       "      <th>3</th>\n",
       "      <td>21742446</td>\n",
       "      <td>2019-01-01 00:13:45</td>\n",
       "      <td>2019-01-01 00:43:28</td>\n",
       "      <td>252</td>\n",
       "      <td>1,783.0</td>\n",
       "      <td>123</td>\n",
       "      <td>California Ave &amp; Milwaukee Ave</td>\n",
       "      <td>176</td>\n",
       "      <td>Clark St &amp; Elm St</td>\n",
       "      <td>Subscriber</td>\n",
       "      <td>Male</td>\n",
       "      <td>1993.0</td>\n",
       "    </tr>\n",
       "    <tr>\n",
       "      <th>4</th>\n",
       "      <td>21742447</td>\n",
       "      <td>2019-01-01 00:14:52</td>\n",
       "      <td>2019-01-01 00:20:56</td>\n",
       "      <td>1170</td>\n",
       "      <td>364.0</td>\n",
       "      <td>173</td>\n",
       "      <td>Mies van der Rohe Way &amp; Chicago Ave</td>\n",
       "      <td>35</td>\n",
       "      <td>Streeter Dr &amp; Grand Ave</td>\n",
       "      <td>Subscriber</td>\n",
       "      <td>Male</td>\n",
       "      <td>1994.0</td>\n",
       "    </tr>\n",
       "    <tr>\n",
       "      <th>5</th>\n",
       "      <td>21742448</td>\n",
       "      <td>2019-01-01 00:15:33</td>\n",
       "      <td>2019-01-01 00:19:09</td>\n",
       "      <td>2437</td>\n",
       "      <td>216.0</td>\n",
       "      <td>98</td>\n",
       "      <td>LaSalle St &amp; Washington St</td>\n",
       "      <td>49</td>\n",
       "      <td>Dearborn St &amp; Monroe St</td>\n",
       "      <td>Subscriber</td>\n",
       "      <td>Female</td>\n",
       "      <td>1983.0</td>\n",
       "    </tr>\n",
       "    <tr>\n",
       "      <th>6</th>\n",
       "      <td>21742449</td>\n",
       "      <td>2019-01-01 00:16:06</td>\n",
       "      <td>2019-01-01 00:19:03</td>\n",
       "      <td>2708</td>\n",
       "      <td>177.0</td>\n",
       "      <td>98</td>\n",
       "      <td>LaSalle St &amp; Washington St</td>\n",
       "      <td>49</td>\n",
       "      <td>Dearborn St &amp; Monroe St</td>\n",
       "      <td>Subscriber</td>\n",
       "      <td>Male</td>\n",
       "      <td>1984.0</td>\n",
       "    </tr>\n",
       "    <tr>\n",
       "      <th>7</th>\n",
       "      <td>21742450</td>\n",
       "      <td>2019-01-01 00:18:41</td>\n",
       "      <td>2019-01-01 00:20:21</td>\n",
       "      <td>2796</td>\n",
       "      <td>100.0</td>\n",
       "      <td>211</td>\n",
       "      <td>St. Clair St &amp; Erie St</td>\n",
       "      <td>142</td>\n",
       "      <td>McClurg Ct &amp; Erie St</td>\n",
       "      <td>Subscriber</td>\n",
       "      <td>Male</td>\n",
       "      <td>1990.0</td>\n",
       "    </tr>\n",
       "    <tr>\n",
       "      <th>8</th>\n",
       "      <td>21742451</td>\n",
       "      <td>2019-01-01 00:18:43</td>\n",
       "      <td>2019-01-01 00:47:30</td>\n",
       "      <td>6205</td>\n",
       "      <td>1,727.0</td>\n",
       "      <td>150</td>\n",
       "      <td>Fort Dearborn Dr &amp; 31st St</td>\n",
       "      <td>148</td>\n",
       "      <td>State St &amp; 33rd St</td>\n",
       "      <td>Subscriber</td>\n",
       "      <td>Male</td>\n",
       "      <td>1995.0</td>\n",
       "    </tr>\n",
       "    <tr>\n",
       "      <th>9</th>\n",
       "      <td>21742452</td>\n",
       "      <td>2019-01-01 00:19:18</td>\n",
       "      <td>2019-01-01 00:24:54</td>\n",
       "      <td>3939</td>\n",
       "      <td>336.0</td>\n",
       "      <td>268</td>\n",
       "      <td>Lake Shore Dr &amp; North Blvd</td>\n",
       "      <td>141</td>\n",
       "      <td>Clark St &amp; Lincoln Ave</td>\n",
       "      <td>Subscriber</td>\n",
       "      <td>Male</td>\n",
       "      <td>1996.0</td>\n",
       "    </tr>\n",
       "  </tbody>\n",
       "</table>\n",
       "</div>"
      ],
      "text/plain": [
       "    trip_id           start_time             end_time  bikeid tripduration  \\\n",
       "0  21742443  2019-01-01 00:04:37  2019-01-01 00:11:07    2167        390.0   \n",
       "1  21742444  2019-01-01 00:08:13  2019-01-01 00:15:34    4386        441.0   \n",
       "2  21742445  2019-01-01 00:13:23  2019-01-01 00:27:12    1524        829.0   \n",
       "3  21742446  2019-01-01 00:13:45  2019-01-01 00:43:28     252      1,783.0   \n",
       "4  21742447  2019-01-01 00:14:52  2019-01-01 00:20:56    1170        364.0   \n",
       "5  21742448  2019-01-01 00:15:33  2019-01-01 00:19:09    2437        216.0   \n",
       "6  21742449  2019-01-01 00:16:06  2019-01-01 00:19:03    2708        177.0   \n",
       "7  21742450  2019-01-01 00:18:41  2019-01-01 00:20:21    2796        100.0   \n",
       "8  21742451  2019-01-01 00:18:43  2019-01-01 00:47:30    6205      1,727.0   \n",
       "9  21742452  2019-01-01 00:19:18  2019-01-01 00:24:54    3939        336.0   \n",
       "\n",
       "   from_station_id                    from_station_name  to_station_id  \\\n",
       "0              199               Wabash Ave & Grand Ave             84   \n",
       "1               44               State St & Randolph St            624   \n",
       "2               15                 Racine Ave & 18th St            644   \n",
       "3              123       California Ave & Milwaukee Ave            176   \n",
       "4              173  Mies van der Rohe Way & Chicago Ave             35   \n",
       "5               98           LaSalle St & Washington St             49   \n",
       "6               98           LaSalle St & Washington St             49   \n",
       "7              211               St. Clair St & Erie St            142   \n",
       "8              150           Fort Dearborn Dr & 31st St            148   \n",
       "9              268           Lake Shore Dr & North Blvd            141   \n",
       "\n",
       "                  to_station_name    usertype  gender  birthyear  \n",
       "0       Milwaukee Ave & Grand Ave  Subscriber    Male     1989.0  \n",
       "1  Dearborn St & Van Buren St (*)  Subscriber  Female     1990.0  \n",
       "2   Western Ave & Fillmore St (*)  Subscriber  Female     1994.0  \n",
       "3               Clark St & Elm St  Subscriber    Male     1993.0  \n",
       "4         Streeter Dr & Grand Ave  Subscriber    Male     1994.0  \n",
       "5         Dearborn St & Monroe St  Subscriber  Female     1983.0  \n",
       "6         Dearborn St & Monroe St  Subscriber    Male     1984.0  \n",
       "7            McClurg Ct & Erie St  Subscriber    Male     1990.0  \n",
       "8              State St & 33rd St  Subscriber    Male     1995.0  \n",
       "9          Clark St & Lincoln Ave  Subscriber    Male     1996.0  "
      ]
     },
     "execution_count": 98,
     "metadata": {},
     "output_type": "execute_result"
    }
   ],
   "source": [
    "merged_df.head(10)"
   ]
  },
  {
   "cell_type": "code",
   "execution_count": 99,
   "metadata": {
    "execution": {
     "iopub.execute_input": "2023-11-22T14:51:31.932006Z",
     "iopub.status.busy": "2023-11-22T14:51:31.931604Z",
     "iopub.status.idle": "2023-11-22T14:51:31.950457Z",
     "shell.execute_reply": "2023-11-22T14:51:31.949563Z",
     "shell.execute_reply.started": "2023-11-22T14:51:31.931972Z"
    }
   },
   "outputs": [
    {
     "data": {
      "text/html": [
       "<div>\n",
       "<style scoped>\n",
       "    .dataframe tbody tr th:only-of-type {\n",
       "        vertical-align: middle;\n",
       "    }\n",
       "\n",
       "    .dataframe tbody tr th {\n",
       "        vertical-align: top;\n",
       "    }\n",
       "\n",
       "    .dataframe thead th {\n",
       "        text-align: right;\n",
       "    }\n",
       "</style>\n",
       "<table border=\"1\" class=\"dataframe\">\n",
       "  <thead>\n",
       "    <tr style=\"text-align: right;\">\n",
       "      <th></th>\n",
       "      <th>trip_id</th>\n",
       "      <th>start_time</th>\n",
       "      <th>end_time</th>\n",
       "      <th>bikeid</th>\n",
       "      <th>tripduration</th>\n",
       "      <th>from_station_id</th>\n",
       "      <th>from_station_name</th>\n",
       "      <th>to_station_id</th>\n",
       "      <th>to_station_name</th>\n",
       "      <th>usertype</th>\n",
       "      <th>gender</th>\n",
       "      <th>birthyear</th>\n",
       "    </tr>\n",
       "  </thead>\n",
       "  <tbody>\n",
       "    <tr>\n",
       "      <th>704049</th>\n",
       "      <td>25962900</td>\n",
       "      <td>2019-12-31 23:56:13</td>\n",
       "      <td>2020-01-01 00:15:45</td>\n",
       "      <td>2196</td>\n",
       "      <td>1,172.0</td>\n",
       "      <td>112</td>\n",
       "      <td>Green St &amp; Randolph St</td>\n",
       "      <td>225</td>\n",
       "      <td>Halsted St &amp; Dickens Ave</td>\n",
       "      <td>Subscriber</td>\n",
       "      <td>Male</td>\n",
       "      <td>1981.0</td>\n",
       "    </tr>\n",
       "    <tr>\n",
       "      <th>704050</th>\n",
       "      <td>25962901</td>\n",
       "      <td>2019-12-31 23:56:34</td>\n",
       "      <td>2020-01-01 00:22:08</td>\n",
       "      <td>4877</td>\n",
       "      <td>1,533.0</td>\n",
       "      <td>90</td>\n",
       "      <td>Millennium Park</td>\n",
       "      <td>90</td>\n",
       "      <td>Millennium Park</td>\n",
       "      <td>Subscriber</td>\n",
       "      <td>Male</td>\n",
       "      <td>1992.0</td>\n",
       "    </tr>\n",
       "    <tr>\n",
       "      <th>704051</th>\n",
       "      <td>25962902</td>\n",
       "      <td>2019-12-31 23:57:05</td>\n",
       "      <td>2020-01-01 00:05:46</td>\n",
       "      <td>863</td>\n",
       "      <td>520.0</td>\n",
       "      <td>623</td>\n",
       "      <td>Michigan Ave &amp; 8th St</td>\n",
       "      <td>52</td>\n",
       "      <td>Michigan Ave &amp; Lake St</td>\n",
       "      <td>Subscriber</td>\n",
       "      <td>Male</td>\n",
       "      <td>1967.0</td>\n",
       "    </tr>\n",
       "    <tr>\n",
       "      <th>704052</th>\n",
       "      <td>25962903</td>\n",
       "      <td>2019-12-31 23:57:11</td>\n",
       "      <td>2020-01-01 00:05:45</td>\n",
       "      <td>2637</td>\n",
       "      <td>514.0</td>\n",
       "      <td>623</td>\n",
       "      <td>Michigan Ave &amp; 8th St</td>\n",
       "      <td>52</td>\n",
       "      <td>Michigan Ave &amp; Lake St</td>\n",
       "      <td>Subscriber</td>\n",
       "      <td>Female</td>\n",
       "      <td>1970.0</td>\n",
       "    </tr>\n",
       "    <tr>\n",
       "      <th>704053</th>\n",
       "      <td>25962904</td>\n",
       "      <td>2019-12-31 23:57:17</td>\n",
       "      <td>2019-12-31 23:59:18</td>\n",
       "      <td>5930</td>\n",
       "      <td>120.0</td>\n",
       "      <td>256</td>\n",
       "      <td>Broadway &amp; Sheridan Rd</td>\n",
       "      <td>240</td>\n",
       "      <td>Sheridan Rd &amp; Irving Park Rd</td>\n",
       "      <td>Subscriber</td>\n",
       "      <td>Male</td>\n",
       "      <td>1982.0</td>\n",
       "    </tr>\n",
       "  </tbody>\n",
       "</table>\n",
       "</div>"
      ],
      "text/plain": [
       "         trip_id           start_time             end_time  bikeid  \\\n",
       "704049  25962900  2019-12-31 23:56:13  2020-01-01 00:15:45    2196   \n",
       "704050  25962901  2019-12-31 23:56:34  2020-01-01 00:22:08    4877   \n",
       "704051  25962902  2019-12-31 23:57:05  2020-01-01 00:05:46     863   \n",
       "704052  25962903  2019-12-31 23:57:11  2020-01-01 00:05:45    2637   \n",
       "704053  25962904  2019-12-31 23:57:17  2019-12-31 23:59:18    5930   \n",
       "\n",
       "       tripduration  from_station_id       from_station_name  to_station_id  \\\n",
       "704049      1,172.0              112  Green St & Randolph St            225   \n",
       "704050      1,533.0               90         Millennium Park             90   \n",
       "704051        520.0              623   Michigan Ave & 8th St             52   \n",
       "704052        514.0              623   Michigan Ave & 8th St             52   \n",
       "704053        120.0              256  Broadway & Sheridan Rd            240   \n",
       "\n",
       "                     to_station_name    usertype  gender  birthyear  \n",
       "704049      Halsted St & Dickens Ave  Subscriber    Male     1981.0  \n",
       "704050               Millennium Park  Subscriber    Male     1992.0  \n",
       "704051        Michigan Ave & Lake St  Subscriber    Male     1967.0  \n",
       "704052        Michigan Ave & Lake St  Subscriber  Female     1970.0  \n",
       "704053  Sheridan Rd & Irving Park Rd  Subscriber    Male     1982.0  "
      ]
     },
     "execution_count": 99,
     "metadata": {},
     "output_type": "execute_result"
    }
   ],
   "source": [
    "merged_df.tail()"
   ]
  },
  {
   "cell_type": "code",
   "execution_count": 100,
   "metadata": {
    "execution": {
     "iopub.execute_input": "2023-11-22T14:51:31.952246Z",
     "iopub.status.busy": "2023-11-22T14:51:31.951928Z",
     "iopub.status.idle": "2023-11-22T14:51:32.791307Z",
     "shell.execute_reply": "2023-11-22T14:51:32.790018Z",
     "shell.execute_reply.started": "2023-11-22T14:51:31.952218Z"
    }
   },
   "outputs": [
    {
     "data": {
      "text/html": [
       "<div>\n",
       "<style scoped>\n",
       "    .dataframe tbody tr th:only-of-type {\n",
       "        vertical-align: middle;\n",
       "    }\n",
       "\n",
       "    .dataframe tbody tr th {\n",
       "        vertical-align: top;\n",
       "    }\n",
       "\n",
       "    .dataframe thead th {\n",
       "        text-align: right;\n",
       "    }\n",
       "</style>\n",
       "<table border=\"1\" class=\"dataframe\">\n",
       "  <thead>\n",
       "    <tr style=\"text-align: right;\">\n",
       "      <th></th>\n",
       "      <th>trip_id</th>\n",
       "      <th>bikeid</th>\n",
       "      <th>from_station_id</th>\n",
       "      <th>to_station_id</th>\n",
       "      <th>birthyear</th>\n",
       "    </tr>\n",
       "  </thead>\n",
       "  <tbody>\n",
       "    <tr>\n",
       "      <th>count</th>\n",
       "      <td>3.818004e+06</td>\n",
       "      <td>3.818004e+06</td>\n",
       "      <td>3.818004e+06</td>\n",
       "      <td>3.818004e+06</td>\n",
       "      <td>3.279253e+06</td>\n",
       "    </tr>\n",
       "    <tr>\n",
       "      <th>mean</th>\n",
       "      <td>2.391563e+07</td>\n",
       "      <td>3.380252e+03</td>\n",
       "      <td>2.016659e+02</td>\n",
       "      <td>2.026363e+02</td>\n",
       "      <td>1.984074e+03</td>\n",
       "    </tr>\n",
       "    <tr>\n",
       "      <th>std</th>\n",
       "      <td>1.212667e+06</td>\n",
       "      <td>1.902511e+03</td>\n",
       "      <td>1.560798e+02</td>\n",
       "      <td>1.562388e+02</td>\n",
       "      <td>1.086898e+01</td>\n",
       "    </tr>\n",
       "    <tr>\n",
       "      <th>min</th>\n",
       "      <td>2.174244e+07</td>\n",
       "      <td>1.000000e+00</td>\n",
       "      <td>1.000000e+00</td>\n",
       "      <td>1.000000e+00</td>\n",
       "      <td>1.759000e+03</td>\n",
       "    </tr>\n",
       "    <tr>\n",
       "      <th>25%</th>\n",
       "      <td>2.287379e+07</td>\n",
       "      <td>1.727000e+03</td>\n",
       "      <td>7.700000e+01</td>\n",
       "      <td>7.700000e+01</td>\n",
       "      <td>1.979000e+03</td>\n",
       "    </tr>\n",
       "    <tr>\n",
       "      <th>50%</th>\n",
       "      <td>2.396232e+07</td>\n",
       "      <td>3.451000e+03</td>\n",
       "      <td>1.740000e+02</td>\n",
       "      <td>1.740000e+02</td>\n",
       "      <td>1.987000e+03</td>\n",
       "    </tr>\n",
       "    <tr>\n",
       "      <th>75%</th>\n",
       "      <td>2.496370e+07</td>\n",
       "      <td>5.046000e+03</td>\n",
       "      <td>2.890000e+02</td>\n",
       "      <td>2.910000e+02</td>\n",
       "      <td>1.992000e+03</td>\n",
       "    </tr>\n",
       "    <tr>\n",
       "      <th>max</th>\n",
       "      <td>2.596290e+07</td>\n",
       "      <td>6.946000e+03</td>\n",
       "      <td>6.730000e+02</td>\n",
       "      <td>6.730000e+02</td>\n",
       "      <td>2.014000e+03</td>\n",
       "    </tr>\n",
       "  </tbody>\n",
       "</table>\n",
       "</div>"
      ],
      "text/plain": [
       "            trip_id        bikeid  from_station_id  to_station_id  \\\n",
       "count  3.818004e+06  3.818004e+06     3.818004e+06   3.818004e+06   \n",
       "mean   2.391563e+07  3.380252e+03     2.016659e+02   2.026363e+02   \n",
       "std    1.212667e+06  1.902511e+03     1.560798e+02   1.562388e+02   \n",
       "min    2.174244e+07  1.000000e+00     1.000000e+00   1.000000e+00   \n",
       "25%    2.287379e+07  1.727000e+03     7.700000e+01   7.700000e+01   \n",
       "50%    2.396232e+07  3.451000e+03     1.740000e+02   1.740000e+02   \n",
       "75%    2.496370e+07  5.046000e+03     2.890000e+02   2.910000e+02   \n",
       "max    2.596290e+07  6.946000e+03     6.730000e+02   6.730000e+02   \n",
       "\n",
       "          birthyear  \n",
       "count  3.279253e+06  \n",
       "mean   1.984074e+03  \n",
       "std    1.086898e+01  \n",
       "min    1.759000e+03  \n",
       "25%    1.979000e+03  \n",
       "50%    1.987000e+03  \n",
       "75%    1.992000e+03  \n",
       "max    2.014000e+03  "
      ]
     },
     "execution_count": 100,
     "metadata": {},
     "output_type": "execute_result"
    }
   ],
   "source": [
    "merged_df.describe()"
   ]
  },
  {
   "cell_type": "code",
   "execution_count": 101,
   "metadata": {
    "execution": {
     "iopub.execute_input": "2023-11-22T14:51:32.796440Z",
     "iopub.status.busy": "2023-11-22T14:51:32.796032Z",
     "iopub.status.idle": "2023-11-22T14:51:32.812118Z",
     "shell.execute_reply": "2023-11-22T14:51:32.810862Z",
     "shell.execute_reply.started": "2023-11-22T14:51:32.796403Z"
    }
   },
   "outputs": [
    {
     "data": {
      "text/plain": [
       "<bound method DataFrame.info of          trip_id           start_time             end_time  bikeid  \\\n",
       "0       21742443  2019-01-01 00:04:37  2019-01-01 00:11:07    2167   \n",
       "1       21742444  2019-01-01 00:08:13  2019-01-01 00:15:34    4386   \n",
       "2       21742445  2019-01-01 00:13:23  2019-01-01 00:27:12    1524   \n",
       "3       21742446  2019-01-01 00:13:45  2019-01-01 00:43:28     252   \n",
       "4       21742447  2019-01-01 00:14:52  2019-01-01 00:20:56    1170   \n",
       "...          ...                  ...                  ...     ...   \n",
       "704049  25962900  2019-12-31 23:56:13  2020-01-01 00:15:45    2196   \n",
       "704050  25962901  2019-12-31 23:56:34  2020-01-01 00:22:08    4877   \n",
       "704051  25962902  2019-12-31 23:57:05  2020-01-01 00:05:46     863   \n",
       "704052  25962903  2019-12-31 23:57:11  2020-01-01 00:05:45    2637   \n",
       "704053  25962904  2019-12-31 23:57:17  2019-12-31 23:59:18    5930   \n",
       "\n",
       "       tripduration  from_station_id                    from_station_name  \\\n",
       "0             390.0              199               Wabash Ave & Grand Ave   \n",
       "1             441.0               44               State St & Randolph St   \n",
       "2             829.0               15                 Racine Ave & 18th St   \n",
       "3           1,783.0              123       California Ave & Milwaukee Ave   \n",
       "4             364.0              173  Mies van der Rohe Way & Chicago Ave   \n",
       "...             ...              ...                                  ...   \n",
       "704049      1,172.0              112               Green St & Randolph St   \n",
       "704050      1,533.0               90                      Millennium Park   \n",
       "704051        520.0              623                Michigan Ave & 8th St   \n",
       "704052        514.0              623                Michigan Ave & 8th St   \n",
       "704053        120.0              256               Broadway & Sheridan Rd   \n",
       "\n",
       "        to_station_id                 to_station_name    usertype  gender  \\\n",
       "0                  84       Milwaukee Ave & Grand Ave  Subscriber    Male   \n",
       "1                 624  Dearborn St & Van Buren St (*)  Subscriber  Female   \n",
       "2                 644   Western Ave & Fillmore St (*)  Subscriber  Female   \n",
       "3                 176               Clark St & Elm St  Subscriber    Male   \n",
       "4                  35         Streeter Dr & Grand Ave  Subscriber    Male   \n",
       "...               ...                             ...         ...     ...   \n",
       "704049            225        Halsted St & Dickens Ave  Subscriber    Male   \n",
       "704050             90                 Millennium Park  Subscriber    Male   \n",
       "704051             52          Michigan Ave & Lake St  Subscriber    Male   \n",
       "704052             52          Michigan Ave & Lake St  Subscriber  Female   \n",
       "704053            240    Sheridan Rd & Irving Park Rd  Subscriber    Male   \n",
       "\n",
       "        birthyear  \n",
       "0          1989.0  \n",
       "1          1990.0  \n",
       "2          1994.0  \n",
       "3          1993.0  \n",
       "4          1994.0  \n",
       "...           ...  \n",
       "704049     1981.0  \n",
       "704050     1992.0  \n",
       "704051     1967.0  \n",
       "704052     1970.0  \n",
       "704053     1982.0  \n",
       "\n",
       "[3818004 rows x 12 columns]>"
      ]
     },
     "execution_count": 101,
     "metadata": {},
     "output_type": "execute_result"
    }
   ],
   "source": [
    "merged_df.info"
   ]
  },
  {
   "cell_type": "markdown",
   "metadata": {},
   "source": [
    "**Clean Data**"
   ]
  },
  {
   "cell_type": "markdown",
   "metadata": {},
   "source": [
    "Check if there are any missing values"
   ]
  },
  {
   "cell_type": "code",
   "execution_count": 102,
   "metadata": {
    "execution": {
     "iopub.execute_input": "2023-11-22T14:51:32.815095Z",
     "iopub.status.busy": "2023-11-22T14:51:32.813784Z",
     "iopub.status.idle": "2023-11-22T14:51:44.868438Z",
     "shell.execute_reply": "2023-11-22T14:51:44.867211Z",
     "shell.execute_reply.started": "2023-11-22T14:51:32.815052Z"
    }
   },
   "outputs": [
    {
     "name": "stdout",
     "output_type": "stream",
     "text": [
      "Any missing values in DataFrame: True\n",
      "\n",
      "Count of missing values for each column:\n",
      "trip_id                   0\n",
      "start_time                0\n",
      "end_time                  0\n",
      "bikeid                    0\n",
      "tripduration              0\n",
      "from_station_id           0\n",
      "from_station_name         0\n",
      "to_station_id             0\n",
      "to_station_name           0\n",
      "usertype                  0\n",
      "gender               559206\n",
      "birthyear            538751\n",
      "dtype: int64\n",
      "\n",
      "Percentage of missing values for each column:\n",
      "trip_id               0.000000\n",
      "start_time            0.000000\n",
      "end_time              0.000000\n",
      "bikeid                0.000000\n",
      "tripduration          0.000000\n",
      "from_station_id       0.000000\n",
      "from_station_name     0.000000\n",
      "to_station_id         0.000000\n",
      "to_station_name       0.000000\n",
      "usertype              0.000000\n",
      "gender               14.646554\n",
      "birthyear            14.110802\n",
      "dtype: float64\n",
      "\n",
      "Rows with missing values:\n",
      "         trip_id           start_time             end_time  bikeid  \\\n",
      "19      21742463  2019-01-01 00:29:19  2019-01-01 01:08:12    3914   \n",
      "21      21742465  2019-01-01 00:29:28  2019-01-01 01:07:49    3355   \n",
      "48      21742494  2019-01-01 01:10:48  2019-01-01 01:32:28    2517   \n",
      "52      21742498  2019-01-01 01:17:23  2019-01-01 01:33:30     374   \n",
      "53      21742499  2019-01-01 01:17:33  2019-01-01 01:33:51    1776   \n",
      "...          ...                  ...                  ...     ...   \n",
      "704014  25962862  2019-12-31 23:21:40  2019-12-31 23:37:53    5474   \n",
      "704040  25962891  2019-12-31 23:49:38  2020-01-01 00:15:19    2936   \n",
      "704041  25962892  2019-12-31 23:49:43  2020-01-01 00:21:51    1671   \n",
      "704042  25962893  2019-12-31 23:49:51  2020-01-01 00:22:08    3925   \n",
      "704043  25962894  2019-12-31 23:49:53  2020-01-01 00:22:30    2898   \n",
      "\n",
      "       tripduration  from_station_id         from_station_name  to_station_id  \\\n",
      "19          2,333.0               35   Streeter Dr & Grand Ave             39   \n",
      "21          2,301.0               35   Streeter Dr & Grand Ave             39   \n",
      "48          1,300.0              290    Kedzie Ave & Palmer Ct            476   \n",
      "52            967.0              367      Racine Ave & 35th St              9   \n",
      "53            978.0              367      Racine Ave & 35th St              9   \n",
      "...             ...              ...                       ...            ...   \n",
      "704014        973.0              146  Loomis St & Jackson Blvd            382   \n",
      "704040      1,540.0               90           Millennium Park             76   \n",
      "704041      1,927.0               90           Millennium Park             76   \n",
      "704042      1,936.0               90           Millennium Park             76   \n",
      "704043      1,956.0               90           Millennium Park             76   \n",
      "\n",
      "                    to_station_name    usertype gender  birthyear  \n",
      "19            Wabash Ave & Adams St    Customer    NaN        NaN  \n",
      "21            Wabash Ave & Adams St    Customer    NaN        NaN  \n",
      "48          Kedzie Ave & Leland Ave    Customer    NaN        NaN  \n",
      "52          Leavitt St & Archer Ave    Customer    NaN        NaN  \n",
      "53          Leavitt St & Archer Ave    Customer    NaN        NaN  \n",
      "...                             ...         ...    ...        ...  \n",
      "704014  Western Ave & Congress Pkwy  Subscriber    NaN     1999.0  \n",
      "704040    Lake Shore Dr & Monroe St    Customer    NaN        NaN  \n",
      "704041    Lake Shore Dr & Monroe St    Customer    NaN        NaN  \n",
      "704042    Lake Shore Dr & Monroe St    Customer    NaN        NaN  \n",
      "704043    Lake Shore Dr & Monroe St    Customer    NaN        NaN  \n",
      "\n",
      "[559208 rows x 12 columns]\n"
     ]
    }
   ],
   "source": [
    "# Check if there are any missing values in the DataFrame\n",
    "any_missing = merged_df.isnull().values.any()\n",
    "\n",
    "# Count of missing values for each column\n",
    "missing_counts = merged_df.isnull().sum()\n",
    "\n",
    "# Percentage of missing values for each column\n",
    "missing_percentage = (missing_counts / len(merged_df)) * 100\n",
    "\n",
    "# Count of missing values for each row\n",
    "row_missing_counts = merged_df.isnull().sum(axis=1)\n",
    "\n",
    "# Rows with any missing values\n",
    "rows_with_missing = merged_df[merged_df.isnull().any(axis=1)]\n",
    "\n",
    "# Print the results\n",
    "print(f\"Any missing values in DataFrame: {any_missing}\")\n",
    "print(\"\\nCount of missing values for each column:\")\n",
    "print(missing_counts)\n",
    "print(\"\\nPercentage of missing values for each column:\")\n",
    "print(missing_percentage)\n",
    "print(\"\\nRows with missing values:\")\n",
    "print(rows_with_missing)\n"
   ]
  },
  {
   "cell_type": "markdown",
   "metadata": {},
   "source": [
    "Found missing values in 'gender' and 'birthyear' columns. The strategy to handle the missing values is to romove rows that contain missing values entirely."
   ]
  },
  {
   "cell_type": "code",
   "execution_count": 103,
   "metadata": {
    "execution": {
     "iopub.execute_input": "2023-11-22T14:51:44.870401Z",
     "iopub.status.busy": "2023-11-22T14:51:44.869968Z",
     "iopub.status.idle": "2023-11-22T14:51:48.154833Z",
     "shell.execute_reply": "2023-11-22T14:51:48.153442Z",
     "shell.execute_reply.started": "2023-11-22T14:51:44.870365Z"
    }
   },
   "outputs": [
    {
     "name": "stdout",
     "output_type": "stream",
     "text": [
      "The shape before dropping rows with missing values is: (3818004, 12)\n",
      "The shape after dropping rows with missing values is: (3258796, 12)\n"
     ]
    }
   ],
   "source": [
    "#Drop rows that contain missing values\n",
    "\n",
    "cleaned_df = merged_df.dropna()\n",
    "old_shape = merged_df.shape\n",
    "new_shape = cleaned_df.shape\n",
    "print(f\"The shape before dropping rows with missing values is: {old_shape}\")\n",
    "print(f\"The shape after dropping rows with missing values is: {new_shape}\")\n",
    "\n",
    "      "
   ]
  },
  {
   "cell_type": "code",
   "execution_count": 104,
   "metadata": {
    "execution": {
     "iopub.execute_input": "2023-11-22T14:51:48.156997Z",
     "iopub.status.busy": "2023-11-22T14:51:48.156551Z",
     "iopub.status.idle": "2023-11-22T14:51:50.561144Z",
     "shell.execute_reply": "2023-11-22T14:51:50.559831Z",
     "shell.execute_reply.started": "2023-11-22T14:51:48.156953Z"
    }
   },
   "outputs": [
    {
     "data": {
      "text/plain": [
       "False"
      ]
     },
     "execution_count": 104,
     "metadata": {},
     "output_type": "execute_result"
    }
   ],
   "source": [
    "#check if there is still missing values in the dataframe\n",
    "cleaned_df.isnull().values.any()"
   ]
  },
  {
   "cell_type": "markdown",
   "metadata": {},
   "source": [
    "**Feature Engineering**"
   ]
  },
  {
   "cell_type": "code",
   "execution_count": 105,
   "metadata": {
    "execution": {
     "iopub.execute_input": "2023-11-22T14:51:50.563514Z",
     "iopub.status.busy": "2023-11-22T14:51:50.563063Z",
     "iopub.status.idle": "2023-11-22T14:51:50.582504Z",
     "shell.execute_reply": "2023-11-22T14:51:50.580870Z",
     "shell.execute_reply.started": "2023-11-22T14:51:50.563474Z"
    }
   },
   "outputs": [
    {
     "name": "stdout",
     "output_type": "stream",
     "text": [
      "<class 'pandas.core.frame.DataFrame'>\n",
      "Int64Index: 3258796 entries, 0 to 704053\n",
      "Data columns (total 12 columns):\n",
      " #   Column             Dtype  \n",
      "---  ------             -----  \n",
      " 0   trip_id            int64  \n",
      " 1   start_time         object \n",
      " 2   end_time           object \n",
      " 3   bikeid             int64  \n",
      " 4   tripduration       object \n",
      " 5   from_station_id    int64  \n",
      " 6   from_station_name  object \n",
      " 7   to_station_id      int64  \n",
      " 8   to_station_name    object \n",
      " 9   usertype           object \n",
      " 10  gender             object \n",
      " 11  birthyear          float64\n",
      "dtypes: float64(1), int64(4), object(7)\n",
      "memory usage: 323.2+ MB\n"
     ]
    }
   ],
   "source": [
    "#Check datatype of each column. The datatype of 'tripduration' must be converted to numeric in order to calculate statistical measures.\n",
    "cleaned_df.info()"
   ]
  },
  {
   "cell_type": "code",
   "execution_count": 106,
   "metadata": {},
   "outputs": [],
   "source": [
    "cleaned_df = cleaned_df.copy()\n",
    "\n",
    "# Convert the datatype of 'tripduration' to numeric\n",
    "cleaned_df.loc[:, 'tripduration'] = pd.to_numeric(cleaned_df['tripduration'], errors='coerce')\n"
   ]
  },
  {
   "cell_type": "code",
   "execution_count": 107,
   "metadata": {},
   "outputs": [
    {
     "name": "stdout",
     "output_type": "stream",
     "text": [
      "<class 'pandas.core.frame.DataFrame'>\n",
      "Int64Index: 3258796 entries, 0 to 704053\n",
      "Data columns (total 12 columns):\n",
      " #   Column             Dtype  \n",
      "---  ------             -----  \n",
      " 0   trip_id            int64  \n",
      " 1   start_time         object \n",
      " 2   end_time           object \n",
      " 3   bikeid             int64  \n",
      " 4   tripduration       float64\n",
      " 5   from_station_id    int64  \n",
      " 6   from_station_name  object \n",
      " 7   to_station_id      int64  \n",
      " 8   to_station_name    object \n",
      " 9   usertype           object \n",
      " 10  gender             object \n",
      " 11  birthyear          float64\n",
      "dtypes: float64(2), int64(4), object(6)\n",
      "memory usage: 323.2+ MB\n"
     ]
    }
   ],
   "source": [
    "#Check that the datatype of 'tripduration' is now changed\n",
    "cleaned_df.info()"
   ]
  },
  {
   "cell_type": "markdown",
   "metadata": {},
   "source": [
    "Process the data for further analysis"
   ]
  },
  {
   "cell_type": "code",
   "execution_count": 108,
   "metadata": {
    "execution": {
     "iopub.execute_input": "2023-11-22T14:51:50.586048Z",
     "iopub.status.busy": "2023-11-22T14:51:50.585336Z",
     "iopub.status.idle": "2023-11-22T14:52:26.152530Z",
     "shell.execute_reply": "2023-11-22T14:52:26.151154Z",
     "shell.execute_reply.started": "2023-11-22T14:51:50.585993Z"
    }
   },
   "outputs": [],
   "source": [
    "cleaned_df = cleaned_df.copy()\n",
    "#Convert these columns into datetime object\n",
    "cleaned_df.loc[:,'start_time'] = pd.to_datetime(cleaned_df['start_time'])\n",
    "cleaned_df.loc[:,'end_time'] = pd.to_datetime(cleaned_df['end_time'])"
   ]
  },
  {
   "cell_type": "code",
   "execution_count": 109,
   "metadata": {
    "execution": {
     "iopub.execute_input": "2023-11-22T14:52:26.154166Z",
     "iopub.status.busy": "2023-11-22T14:52:26.153801Z",
     "iopub.status.idle": "2023-11-22T14:52:42.670548Z",
     "shell.execute_reply": "2023-11-22T14:52:42.669038Z",
     "shell.execute_reply.started": "2023-11-22T14:52:26.154133Z"
    }
   },
   "outputs": [],
   "source": [
    "cleaned_df['ride_length'] = cleaned_df['end_time'] - cleaned_df['start_time']"
   ]
  },
  {
   "cell_type": "code",
   "execution_count": 110,
   "metadata": {
    "execution": {
     "iopub.execute_input": "2023-11-22T14:52:42.673496Z",
     "iopub.status.busy": "2023-11-22T14:52:42.672611Z",
     "iopub.status.idle": "2023-11-22T14:52:42.696801Z",
     "shell.execute_reply": "2023-11-22T14:52:42.695304Z",
     "shell.execute_reply.started": "2023-11-22T14:52:42.673429Z"
    }
   },
   "outputs": [
    {
     "data": {
      "text/html": [
       "<div>\n",
       "<style scoped>\n",
       "    .dataframe tbody tr th:only-of-type {\n",
       "        vertical-align: middle;\n",
       "    }\n",
       "\n",
       "    .dataframe tbody tr th {\n",
       "        vertical-align: top;\n",
       "    }\n",
       "\n",
       "    .dataframe thead th {\n",
       "        text-align: right;\n",
       "    }\n",
       "</style>\n",
       "<table border=\"1\" class=\"dataframe\">\n",
       "  <thead>\n",
       "    <tr style=\"text-align: right;\">\n",
       "      <th></th>\n",
       "      <th>trip_id</th>\n",
       "      <th>start_time</th>\n",
       "      <th>end_time</th>\n",
       "      <th>bikeid</th>\n",
       "      <th>tripduration</th>\n",
       "      <th>from_station_id</th>\n",
       "      <th>from_station_name</th>\n",
       "      <th>to_station_id</th>\n",
       "      <th>to_station_name</th>\n",
       "      <th>usertype</th>\n",
       "      <th>gender</th>\n",
       "      <th>birthyear</th>\n",
       "      <th>ride_length</th>\n",
       "    </tr>\n",
       "  </thead>\n",
       "  <tbody>\n",
       "    <tr>\n",
       "      <th>0</th>\n",
       "      <td>21742443</td>\n",
       "      <td>2019-01-01 00:04:37</td>\n",
       "      <td>2019-01-01 00:11:07</td>\n",
       "      <td>2167</td>\n",
       "      <td>390.0</td>\n",
       "      <td>199</td>\n",
       "      <td>Wabash Ave &amp; Grand Ave</td>\n",
       "      <td>84</td>\n",
       "      <td>Milwaukee Ave &amp; Grand Ave</td>\n",
       "      <td>Subscriber</td>\n",
       "      <td>Male</td>\n",
       "      <td>1989.0</td>\n",
       "      <td>0 days 00:06:30</td>\n",
       "    </tr>\n",
       "    <tr>\n",
       "      <th>1</th>\n",
       "      <td>21742444</td>\n",
       "      <td>2019-01-01 00:08:13</td>\n",
       "      <td>2019-01-01 00:15:34</td>\n",
       "      <td>4386</td>\n",
       "      <td>441.0</td>\n",
       "      <td>44</td>\n",
       "      <td>State St &amp; Randolph St</td>\n",
       "      <td>624</td>\n",
       "      <td>Dearborn St &amp; Van Buren St (*)</td>\n",
       "      <td>Subscriber</td>\n",
       "      <td>Female</td>\n",
       "      <td>1990.0</td>\n",
       "      <td>0 days 00:07:21</td>\n",
       "    </tr>\n",
       "    <tr>\n",
       "      <th>2</th>\n",
       "      <td>21742445</td>\n",
       "      <td>2019-01-01 00:13:23</td>\n",
       "      <td>2019-01-01 00:27:12</td>\n",
       "      <td>1524</td>\n",
       "      <td>829.0</td>\n",
       "      <td>15</td>\n",
       "      <td>Racine Ave &amp; 18th St</td>\n",
       "      <td>644</td>\n",
       "      <td>Western Ave &amp; Fillmore St (*)</td>\n",
       "      <td>Subscriber</td>\n",
       "      <td>Female</td>\n",
       "      <td>1994.0</td>\n",
       "      <td>0 days 00:13:49</td>\n",
       "    </tr>\n",
       "    <tr>\n",
       "      <th>3</th>\n",
       "      <td>21742446</td>\n",
       "      <td>2019-01-01 00:13:45</td>\n",
       "      <td>2019-01-01 00:43:28</td>\n",
       "      <td>252</td>\n",
       "      <td>NaN</td>\n",
       "      <td>123</td>\n",
       "      <td>California Ave &amp; Milwaukee Ave</td>\n",
       "      <td>176</td>\n",
       "      <td>Clark St &amp; Elm St</td>\n",
       "      <td>Subscriber</td>\n",
       "      <td>Male</td>\n",
       "      <td>1993.0</td>\n",
       "      <td>0 days 00:29:43</td>\n",
       "    </tr>\n",
       "    <tr>\n",
       "      <th>4</th>\n",
       "      <td>21742447</td>\n",
       "      <td>2019-01-01 00:14:52</td>\n",
       "      <td>2019-01-01 00:20:56</td>\n",
       "      <td>1170</td>\n",
       "      <td>364.0</td>\n",
       "      <td>173</td>\n",
       "      <td>Mies van der Rohe Way &amp; Chicago Ave</td>\n",
       "      <td>35</td>\n",
       "      <td>Streeter Dr &amp; Grand Ave</td>\n",
       "      <td>Subscriber</td>\n",
       "      <td>Male</td>\n",
       "      <td>1994.0</td>\n",
       "      <td>0 days 00:06:04</td>\n",
       "    </tr>\n",
       "  </tbody>\n",
       "</table>\n",
       "</div>"
      ],
      "text/plain": [
       "    trip_id          start_time            end_time  bikeid  tripduration  \\\n",
       "0  21742443 2019-01-01 00:04:37 2019-01-01 00:11:07    2167         390.0   \n",
       "1  21742444 2019-01-01 00:08:13 2019-01-01 00:15:34    4386         441.0   \n",
       "2  21742445 2019-01-01 00:13:23 2019-01-01 00:27:12    1524         829.0   \n",
       "3  21742446 2019-01-01 00:13:45 2019-01-01 00:43:28     252           NaN   \n",
       "4  21742447 2019-01-01 00:14:52 2019-01-01 00:20:56    1170         364.0   \n",
       "\n",
       "   from_station_id                    from_station_name  to_station_id  \\\n",
       "0              199               Wabash Ave & Grand Ave             84   \n",
       "1               44               State St & Randolph St            624   \n",
       "2               15                 Racine Ave & 18th St            644   \n",
       "3              123       California Ave & Milwaukee Ave            176   \n",
       "4              173  Mies van der Rohe Way & Chicago Ave             35   \n",
       "\n",
       "                  to_station_name    usertype  gender  birthyear  \\\n",
       "0       Milwaukee Ave & Grand Ave  Subscriber    Male     1989.0   \n",
       "1  Dearborn St & Van Buren St (*)  Subscriber  Female     1990.0   \n",
       "2   Western Ave & Fillmore St (*)  Subscriber  Female     1994.0   \n",
       "3               Clark St & Elm St  Subscriber    Male     1993.0   \n",
       "4         Streeter Dr & Grand Ave  Subscriber    Male     1994.0   \n",
       "\n",
       "      ride_length  \n",
       "0 0 days 00:06:30  \n",
       "1 0 days 00:07:21  \n",
       "2 0 days 00:13:49  \n",
       "3 0 days 00:29:43  \n",
       "4 0 days 00:06:04  "
      ]
     },
     "execution_count": 110,
     "metadata": {},
     "output_type": "execute_result"
    }
   ],
   "source": [
    "cleaned_df.head()"
   ]
  },
  {
   "cell_type": "code",
   "execution_count": 111,
   "metadata": {
    "execution": {
     "iopub.execute_input": "2023-11-22T14:52:42.698779Z",
     "iopub.status.busy": "2023-11-22T14:52:42.698216Z",
     "iopub.status.idle": "2023-11-22T14:52:43.264949Z",
     "shell.execute_reply": "2023-11-22T14:52:43.263746Z",
     "shell.execute_reply.started": "2023-11-22T14:52:42.698738Z"
    },
    "scrolled": true
   },
   "outputs": [
    {
     "data": {
      "text/html": [
       "<div>\n",
       "<style scoped>\n",
       "    .dataframe tbody tr th:only-of-type {\n",
       "        vertical-align: middle;\n",
       "    }\n",
       "\n",
       "    .dataframe tbody tr th {\n",
       "        vertical-align: top;\n",
       "    }\n",
       "\n",
       "    .dataframe thead th {\n",
       "        text-align: right;\n",
       "    }\n",
       "</style>\n",
       "<table border=\"1\" class=\"dataframe\">\n",
       "  <thead>\n",
       "    <tr style=\"text-align: right;\">\n",
       "      <th></th>\n",
       "      <th>trip_id</th>\n",
       "      <th>bikeid</th>\n",
       "      <th>tripduration</th>\n",
       "      <th>from_station_id</th>\n",
       "      <th>to_station_id</th>\n",
       "      <th>birthyear</th>\n",
       "      <th>ride_length</th>\n",
       "    </tr>\n",
       "  </thead>\n",
       "  <tbody>\n",
       "    <tr>\n",
       "      <th>count</th>\n",
       "      <td>3.258796e+06</td>\n",
       "      <td>3.258796e+06</td>\n",
       "      <td>2.346918e+06</td>\n",
       "      <td>3.258796e+06</td>\n",
       "      <td>3.258796e+06</td>\n",
       "      <td>3.258796e+06</td>\n",
       "      <td>3258796</td>\n",
       "    </tr>\n",
       "    <tr>\n",
       "      <th>mean</th>\n",
       "      <td>2.391703e+07</td>\n",
       "      <td>3.390371e+03</td>\n",
       "      <td>5.075589e+02</td>\n",
       "      <td>2.049440e+02</td>\n",
       "      <td>2.054959e+02</td>\n",
       "      <td>1.984083e+03</td>\n",
       "      <td>0 days 00:17:51.119631606</td>\n",
       "    </tr>\n",
       "    <tr>\n",
       "      <th>std</th>\n",
       "      <td>1.241564e+06</td>\n",
       "      <td>1.905420e+03</td>\n",
       "      <td>2.299662e+02</td>\n",
       "      <td>1.559652e+02</td>\n",
       "      <td>1.556257e+02</td>\n",
       "      <td>1.085970e+01</td>\n",
       "      <td>0 days 05:46:12.558607595</td>\n",
       "    </tr>\n",
       "    <tr>\n",
       "      <th>min</th>\n",
       "      <td>2.174244e+07</td>\n",
       "      <td>1.000000e+00</td>\n",
       "      <td>6.100000e+01</td>\n",
       "      <td>2.000000e+00</td>\n",
       "      <td>2.000000e+00</td>\n",
       "      <td>1.759000e+03</td>\n",
       "      <td>-1 days +23:03:38</td>\n",
       "    </tr>\n",
       "    <tr>\n",
       "      <th>25%</th>\n",
       "      <td>2.282444e+07</td>\n",
       "      <td>1.735000e+03</td>\n",
       "      <td>3.190000e+02</td>\n",
       "      <td>8.100000e+01</td>\n",
       "      <td>8.100000e+01</td>\n",
       "      <td>1.979000e+03</td>\n",
       "      <td>0 days 00:06:20</td>\n",
       "    </tr>\n",
       "    <tr>\n",
       "      <th>50%</th>\n",
       "      <td>2.397144e+07</td>\n",
       "      <td>3.465000e+03</td>\n",
       "      <td>4.810000e+02</td>\n",
       "      <td>1.760000e+02</td>\n",
       "      <td>1.760000e+02</td>\n",
       "      <td>1.987000e+03</td>\n",
       "      <td>0 days 00:10:31</td>\n",
       "    </tr>\n",
       "    <tr>\n",
       "      <th>75%</th>\n",
       "      <td>2.501124e+07</td>\n",
       "      <td>5.061000e+03</td>\n",
       "      <td>6.820000e+02</td>\n",
       "      <td>2.910000e+02</td>\n",
       "      <td>2.930000e+02</td>\n",
       "      <td>1.992000e+03</td>\n",
       "      <td>0 days 00:17:56</td>\n",
       "    </tr>\n",
       "    <tr>\n",
       "      <th>max</th>\n",
       "      <td>2.596290e+07</td>\n",
       "      <td>6.946000e+03</td>\n",
       "      <td>9.990000e+02</td>\n",
       "      <td>6.730000e+02</td>\n",
       "      <td>6.730000e+02</td>\n",
       "      <td>2.014000e+03</td>\n",
       "      <td>104 days 19:43:54</td>\n",
       "    </tr>\n",
       "  </tbody>\n",
       "</table>\n",
       "</div>"
      ],
      "text/plain": [
       "            trip_id        bikeid  tripduration  from_station_id  \\\n",
       "count  3.258796e+06  3.258796e+06  2.346918e+06     3.258796e+06   \n",
       "mean   2.391703e+07  3.390371e+03  5.075589e+02     2.049440e+02   \n",
       "std    1.241564e+06  1.905420e+03  2.299662e+02     1.559652e+02   \n",
       "min    2.174244e+07  1.000000e+00  6.100000e+01     2.000000e+00   \n",
       "25%    2.282444e+07  1.735000e+03  3.190000e+02     8.100000e+01   \n",
       "50%    2.397144e+07  3.465000e+03  4.810000e+02     1.760000e+02   \n",
       "75%    2.501124e+07  5.061000e+03  6.820000e+02     2.910000e+02   \n",
       "max    2.596290e+07  6.946000e+03  9.990000e+02     6.730000e+02   \n",
       "\n",
       "       to_station_id     birthyear                ride_length  \n",
       "count   3.258796e+06  3.258796e+06                    3258796  \n",
       "mean    2.054959e+02  1.984083e+03  0 days 00:17:51.119631606  \n",
       "std     1.556257e+02  1.085970e+01  0 days 05:46:12.558607595  \n",
       "min     2.000000e+00  1.759000e+03          -1 days +23:03:38  \n",
       "25%     8.100000e+01  1.979000e+03            0 days 00:06:20  \n",
       "50%     1.760000e+02  1.987000e+03            0 days 00:10:31  \n",
       "75%     2.930000e+02  1.992000e+03            0 days 00:17:56  \n",
       "max     6.730000e+02  2.014000e+03          104 days 19:43:54  "
      ]
     },
     "execution_count": 111,
     "metadata": {},
     "output_type": "execute_result"
    }
   ],
   "source": [
    "cleaned_df.describe()"
   ]
  },
  {
   "cell_type": "code",
   "execution_count": 112,
   "metadata": {
    "execution": {
     "iopub.execute_input": "2023-11-22T14:52:43.266935Z",
     "iopub.status.busy": "2023-11-22T14:52:43.266565Z",
     "iopub.status.idle": "2023-11-22T14:52:45.103430Z",
     "shell.execute_reply": "2023-11-22T14:52:45.102145Z",
     "shell.execute_reply.started": "2023-11-22T14:52:43.266903Z"
    }
   },
   "outputs": [],
   "source": [
    "#Segment the data based on usertype\n",
    "members = cleaned_df[cleaned_df['usertype'] == 'Subscriber']\n",
    "casual_riders = cleaned_df[cleaned_df['usertype'] == 'Customer']"
   ]
  },
  {
   "cell_type": "markdown",
   "metadata": {},
   "source": [
    "**Analyze usage patterns**"
   ]
  },
  {
   "cell_type": "code",
   "execution_count": 113,
   "metadata": {
    "execution": {
     "iopub.execute_input": "2023-11-22T14:52:45.105767Z",
     "iopub.status.busy": "2023-11-22T14:52:45.105247Z",
     "iopub.status.idle": "2023-11-22T14:52:45.682121Z",
     "shell.execute_reply": "2023-11-22T14:52:45.680877Z",
     "shell.execute_reply.started": "2023-11-22T14:52:45.105718Z"
    }
   },
   "outputs": [
    {
     "data": {
      "text/plain": [
       "Subscriber    2914616\n",
       "Customer       344180\n",
       "Name: usertype, dtype: int64"
      ]
     },
     "execution_count": 113,
     "metadata": {},
     "output_type": "execute_result"
    }
   ],
   "source": [
    "#Count the number of rides per user type\n",
    "ride_counts = cleaned_df['usertype'].value_counts()\n",
    "ride_counts"
   ]
  },
  {
   "cell_type": "code",
   "execution_count": 114,
   "metadata": {},
   "outputs": [
    {
     "name": "stdout",
     "output_type": "stream",
     "text": [
      "Member Percentage: 89.44%\n",
      "Casual Rider Percentage: 10.56%\n"
     ]
    }
   ],
   "source": [
    "member_counts = ride_counts['Subscriber']\n",
    "casual_counts = ride_counts['Customer']\n",
    "Total_counts = member_counts + casual_counts\n",
    "\n",
    "#Calculate the percentage of each ride counts\n",
    "member_percentage = (member_counts/Total_counts)*100\n",
    "casual_percentage = (casual_counts/Total_counts)*100\n",
    "\n",
    "#Print the percentage\n",
    "print(f\"Member Percentage: {member_percentage:.2f}%\")\n",
    "print(f\"Casual Rider Percentage: {casual_percentage:.2f}%\")\n"
   ]
  },
  {
   "cell_type": "code",
   "execution_count": 115,
   "metadata": {
    "execution": {
     "iopub.execute_input": "2023-11-22T14:52:45.684047Z",
     "iopub.status.busy": "2023-11-22T14:52:45.683598Z"
    }
   },
   "outputs": [
    {
     "data": {
      "text/plain": [
       "usertype\n",
       "Customer      628.037229\n",
       "Subscriber    501.134919\n",
       "Name: tripduration, dtype: float64"
      ]
     },
     "execution_count": 115,
     "metadata": {},
     "output_type": "execute_result"
    }
   ],
   "source": [
    "cleaned_df.groupby('usertype')['tripduration'].mean()"
   ]
  },
  {
   "cell_type": "code",
   "execution_count": 116,
   "metadata": {},
   "outputs": [
    {
     "data": {
      "text/plain": [
       "usertype\n",
       "Customer      638.0\n",
       "Subscriber    473.0\n",
       "Name: tripduration, dtype: float64"
      ]
     },
     "execution_count": 116,
     "metadata": {},
     "output_type": "execute_result"
    }
   ],
   "source": [
    "cleaned_df.groupby('usertype')['tripduration'].median()"
   ]
  },
  {
   "cell_type": "code",
   "execution_count": 117,
   "metadata": {},
   "outputs": [
    {
     "data": {
      "text/plain": [
       "usertype\n",
       "Customer      17\n",
       "Subscriber    17\n",
       "Name: start_hour, dtype: int64"
      ]
     },
     "execution_count": 117,
     "metadata": {},
     "output_type": "execute_result"
    }
   ],
   "source": [
    "#Extract hour from the 'start_time' column\n",
    "cleaned_df['start_hour'] = cleaned_df['start_time'].dt.hour\n",
    "\n",
    "# Calculate the mode of the start hour for each user type\n",
    "peak_hour = cleaned_df.groupby('usertype')['start_hour'].agg(lambda x: x.mode())\n",
    "\n",
    "peak_hour"
   ]
  },
  {
   "cell_type": "code",
   "execution_count": 118,
   "metadata": {},
   "outputs": [
    {
     "data": {
      "text/html": [
       "<div>\n",
       "<style scoped>\n",
       "    .dataframe tbody tr th:only-of-type {\n",
       "        vertical-align: middle;\n",
       "    }\n",
       "\n",
       "    .dataframe tbody tr th {\n",
       "        vertical-align: top;\n",
       "    }\n",
       "\n",
       "    .dataframe thead th {\n",
       "        text-align: right;\n",
       "    }\n",
       "</style>\n",
       "<table border=\"1\" class=\"dataframe\">\n",
       "  <thead>\n",
       "    <tr style=\"text-align: right;\">\n",
       "      <th>usertype</th>\n",
       "      <th>Customer</th>\n",
       "      <th>Subscriber</th>\n",
       "    </tr>\n",
       "    <tr>\n",
       "      <th>start_month</th>\n",
       "      <th></th>\n",
       "      <th></th>\n",
       "    </tr>\n",
       "  </thead>\n",
       "  <tbody>\n",
       "    <tr>\n",
       "      <th>1</th>\n",
       "      <td>1187</td>\n",
       "      <td>97998</td>\n",
       "    </tr>\n",
       "    <tr>\n",
       "      <th>2</th>\n",
       "      <td>732</td>\n",
       "      <td>92781</td>\n",
       "    </tr>\n",
       "    <tr>\n",
       "      <th>3</th>\n",
       "      <td>4015</td>\n",
       "      <td>148644</td>\n",
       "    </tr>\n",
       "    <tr>\n",
       "      <th>4</th>\n",
       "      <td>13123</td>\n",
       "      <td>216244</td>\n",
       "    </tr>\n",
       "    <tr>\n",
       "      <th>5</th>\n",
       "      <td>23704</td>\n",
       "      <td>283865</td>\n",
       "    </tr>\n",
       "    <tr>\n",
       "      <th>6</th>\n",
       "      <td>42645</td>\n",
       "      <td>343027</td>\n",
       "    </tr>\n",
       "    <tr>\n",
       "      <th>7</th>\n",
       "      <td>75406</td>\n",
       "      <td>378254</td>\n",
       "    </tr>\n",
       "    <tr>\n",
       "      <th>8</th>\n",
       "      <td>83208</td>\n",
       "      <td>399975</td>\n",
       "    </tr>\n",
       "    <tr>\n",
       "      <th>9</th>\n",
       "      <td>55502</td>\n",
       "      <td>361023</td>\n",
       "    </tr>\n",
       "    <tr>\n",
       "      <th>10</th>\n",
       "      <td>30662</td>\n",
       "      <td>298249</td>\n",
       "    </tr>\n",
       "    <tr>\n",
       "      <th>11</th>\n",
       "      <td>7839</td>\n",
       "      <td>157130</td>\n",
       "    </tr>\n",
       "    <tr>\n",
       "      <th>12</th>\n",
       "      <td>6157</td>\n",
       "      <td>137426</td>\n",
       "    </tr>\n",
       "  </tbody>\n",
       "</table>\n",
       "</div>"
      ],
      "text/plain": [
       "usertype     Customer  Subscriber\n",
       "start_month                      \n",
       "1                1187       97998\n",
       "2                 732       92781\n",
       "3                4015      148644\n",
       "4               13123      216244\n",
       "5               23704      283865\n",
       "6               42645      343027\n",
       "7               75406      378254\n",
       "8               83208      399975\n",
       "9               55502      361023\n",
       "10              30662      298249\n",
       "11               7839      157130\n",
       "12               6157      137426"
      ]
     },
     "execution_count": 118,
     "metadata": {},
     "output_type": "execute_result"
    }
   ],
   "source": [
    "#Look at the usage patterns by month\n",
    "# Extract month from the 'start_time' column\n",
    "cleaned_df['start_month'] = cleaned_df['start_time'].dt.month\n",
    "\n",
    "# Count rides by month for each user type\n",
    "monthly_usage = cleaned_df.groupby(['start_month', 'usertype']).size().unstack()\n",
    "\n",
    "monthly_usage"
   ]
  },
  {
   "cell_type": "code",
   "execution_count": 119,
   "metadata": {},
   "outputs": [
    {
     "data": {
      "text/plain": [
       "usertype    from_station_name           \n",
       "Customer    Streeter Dr & Grand Ave         16112\n",
       "            Lake Shore Dr & Monroe St        9886\n",
       "            Michigan Ave & Oak St            7113\n",
       "            Lake Shore Dr & North Blvd       6578\n",
       "            Millennium Park                  6287\n",
       "Subscriber  Canal St & Adams St             50533\n",
       "            Clinton St & Madison St         45668\n",
       "            Clinton St & Washington Blvd    45118\n",
       "            Columbus Dr & Randolph St       31098\n",
       "            Franklin St & Monroe St         30742\n",
       "Name: from_station_name, dtype: int64"
      ]
     },
     "execution_count": 119,
     "metadata": {},
     "output_type": "execute_result"
    }
   ],
   "source": [
    "# Find the top 5 start stations for each user type\n",
    "top_stations = cleaned_df.groupby('usertype')['from_station_name'].value_counts().groupby(level=0).head(5)\n",
    "top_stations"
   ]
  },
  {
   "cell_type": "markdown",
   "metadata": {},
   "source": [
    "Key business problem: How annual members and casual riders use Cyclistic bikes differently\n",
    "\n",
    "Here's the breakdown of the findings\n",
    "\n",
    "1. Ride Frequency:\n",
    "The data shows that annual members use the service approximately 9 times more often than casual riders. This suggests that members are likely to use the service for regualr commutes amd frequent short trips. This insight highlight the loyalty and consistent usage of annual members\n",
    "2. Monthly Usage Patterns:\n",
    "The data shows that members have higher ride counts than casual riders every month. This indicates that annual members regularly use the service throughout the year.\n",
    "3. Trip Duration\n",
    "Annual members have shorter trip duration. This could suggest that annual members use the service for regular commuting, where as casual riders use the service for leisure or non regular longer rides."
   ]
  },
  {
   "cell_type": "markdown",
   "metadata": {},
   "source": [
    "**Data Visualization**"
   ]
  },
  {
   "cell_type": "code",
   "execution_count": 120,
   "metadata": {
    "scrolled": true
   },
   "outputs": [
    {
     "data": {
      "image/png": "[encoded data removed]",
      "text/plain": [
       "<Figure size 640x480 with 1 Axes>"
      ]
     },
     "metadata": {},
     "output_type": "display_data"
    }
   ],
   "source": [
    "import matplotlib.pyplot as plt\n",
    "import seaborn as sns\n",
    "\n",
    "# Plot ride counts by user type\n",
    "sns.countplot(data=cleaned_df, x='usertype')\n",
    "plt.title('Ride Counts by User Type')\n",
    "plt.show()\n",
    "\n"
   ]
  },
  {
   "cell_type": "code",
   "execution_count": 121,
   "metadata": {
    "scrolled": true
   },
   "outputs": [
    {
     "data": {
      "image/png": "[encoded data removed]",
      "text/plain": [
       "<Figure size 640x480 with 1 Axes>"
      ]
     },
     "metadata": {},
     "output_type": "display_data"
    }
   ],
   "source": [
    "# Plot average ride duration by user type\n",
    "sns.barplot(data=cleaned_df, x='usertype', y='tripduration')\n",
    "plt.title('Average Ride Duration by User Type')\n",
    "plt.show()\n",
    "\n"
   ]
  },
  {
   "cell_type": "code",
   "execution_count": 122,
   "metadata": {},
   "outputs": [
    {
     "data": {
      "text/plain": [
       "<module 'matplotlib.pyplot' from '/Users/peerapongchaolumbuacharat/opt/anaconda3/lib/python3.9/site-packages/matplotlib/pyplot.py'>"
      ]
     },
     "execution_count": 122,
     "metadata": {},
     "output_type": "execute_result"
    },
    {
     "data": {
      "image/png": "[encoded data removed]",
      "text/plain": [
       "<Figure size 640x480 with 1 Axes>"
      ]
     },
     "metadata": {},
     "output_type": "display_data"
    }
   ],
   "source": [
    "# Plot monthly usage patterns for each user type\n",
    "monthly_usage.plot(kind='bar', stacked=True)\n",
    "plt.title('Monthly Bike Usage by User Type')\n",
    "plt.xlabel('Month')\n",
    "plt.ylabel('Number of Rides')\n",
    "plt\n"
   ]
  },
  {
   "cell_type": "code",
   "execution_count": null,
   "metadata": {},
   "outputs": [],
   "source": []
  }
 ],
 "metadata": {
  "kaggle": {
   "accelerator": "none",
   "dataSources": [
    {
     "datasetId": 4031113,
     "sourceId": 7011260,
     "sourceType": "datasetVersion"
    }
   ],
   "dockerImageVersionId": 30587,
   "isGpuEnabled": false,
   "isInternetEnabled": false,
   "language": "python",
   "sourceType": "notebook"
  },
  "kernelspec": {
   "display_name": "Python 3 (ipykernel)",
   "language": "python",
   "name": "python3"
  },
  "language_info": {
   "codemirror_mode": {
    "name": "ipython",
    "version": 3
   },
   "file_extension": ".py",
   "mimetype": "text/x-python",
   "name": "python",
   "nbconvert_exporter": "python",
   "pygments_lexer": "ipython3",
   "version": "3.9.13"
  }
 },
 "nbformat": 4,
 "nbformat_minor": 4
}
